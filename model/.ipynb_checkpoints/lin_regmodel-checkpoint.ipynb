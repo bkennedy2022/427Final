{
 "cells": [
  {
   "cell_type": "code",
   "execution_count": 1,
   "metadata": {},
   "outputs": [],
   "source": [
    "import numpy as np\n",
    "import pandas as pd\n",
    "from datetime import datetime\n",
    "import matplotlib.pyplot as plt\n",
    "from matplotlib.pyplot import figure\n",
    "\n",
    "from sklearn.model_selection import train_test_split\n",
    "from sklearn.linear_model import LinearRegression\n",
    "from sklearn.metrics import mean_squared_error, r2_score"
   ]
  },
  {
   "cell_type": "code",
   "execution_count": 3,
   "metadata": {},
   "outputs": [
    {
     "data": {
      "text/html": [
       "<div>\n",
       "<style scoped>\n",
       "    .dataframe tbody tr th:only-of-type {\n",
       "        vertical-align: middle;\n",
       "    }\n",
       "\n",
       "    .dataframe tbody tr th {\n",
       "        vertical-align: top;\n",
       "    }\n",
       "\n",
       "    .dataframe thead th {\n",
       "        text-align: right;\n",
       "    }\n",
       "</style>\n",
       "<table border=\"1\" class=\"dataframe\">\n",
       "  <thead>\n",
       "    <tr style=\"text-align: right;\">\n",
       "      <th></th>\n",
       "      <th>submission_date</th>\n",
       "      <th>tot_cases</th>\n",
       "    </tr>\n",
       "  </thead>\n",
       "  <tbody>\n",
       "    <tr>\n",
       "      <th>0</th>\n",
       "      <td>01/01/2021</td>\n",
       "      <td>20236863</td>\n",
       "    </tr>\n",
       "    <tr>\n",
       "      <th>1</th>\n",
       "      <td>01/02/2021</td>\n",
       "      <td>20516864</td>\n",
       "    </tr>\n",
       "    <tr>\n",
       "      <th>2</th>\n",
       "      <td>01/03/2021</td>\n",
       "      <td>20725195</td>\n",
       "    </tr>\n",
       "    <tr>\n",
       "      <th>3</th>\n",
       "      <td>01/04/2021</td>\n",
       "      <td>20907526</td>\n",
       "    </tr>\n",
       "    <tr>\n",
       "      <th>4</th>\n",
       "      <td>01/05/2021</td>\n",
       "      <td>21142325</td>\n",
       "    </tr>\n",
       "    <tr>\n",
       "      <th>...</th>\n",
       "      <td>...</td>\n",
       "      <td>...</td>\n",
       "    </tr>\n",
       "    <tr>\n",
       "      <th>459</th>\n",
       "      <td>12/27/2020</td>\n",
       "      <td>19204735</td>\n",
       "    </tr>\n",
       "    <tr>\n",
       "      <th>460</th>\n",
       "      <td>12/28/2020</td>\n",
       "      <td>19386334</td>\n",
       "    </tr>\n",
       "    <tr>\n",
       "      <th>461</th>\n",
       "      <td>12/29/2020</td>\n",
       "      <td>19595012</td>\n",
       "    </tr>\n",
       "    <tr>\n",
       "      <th>462</th>\n",
       "      <td>12/30/2020</td>\n",
       "      <td>19831758</td>\n",
       "    </tr>\n",
       "    <tr>\n",
       "      <th>463</th>\n",
       "      <td>12/31/2020</td>\n",
       "      <td>20063087</td>\n",
       "    </tr>\n",
       "  </tbody>\n",
       "</table>\n",
       "<p>464 rows × 2 columns</p>\n",
       "</div>"
      ],
      "text/plain": [
       "    submission_date  tot_cases\n",
       "0        01/01/2021   20236863\n",
       "1        01/02/2021   20516864\n",
       "2        01/03/2021   20725195\n",
       "3        01/04/2021   20907526\n",
       "4        01/05/2021   21142325\n",
       "..              ...        ...\n",
       "459      12/27/2020   19204735\n",
       "460      12/28/2020   19386334\n",
       "461      12/29/2020   19595012\n",
       "462      12/30/2020   19831758\n",
       "463      12/31/2020   20063087\n",
       "\n",
       "[464 rows x 2 columns]"
      ]
     },
     "execution_count": 3,
     "metadata": {},
     "output_type": "execute_result"
    }
   ],
   "source": [
    "# load, clean and process data\n",
    "\n",
    "df = pd.read_csv('https://raw.githubusercontent.com/bkennedy2022/427Final/master/data%20processing/United_States_COVID-19_Cases_and_Deaths_by_State_over_Time.csv')\n",
    "\n",
    "cleaned = df.loc[(df['submission_date'].notnull()) & (df['tot_cases'].notnull())]\n",
    "\n",
    "model_data = cleaned[['submission_date', 'tot_cases']]\n",
    "model_data = model_data.groupby('submission_date').agg({'tot_cases':'sum'})\n",
    "model_data = model_data.reset_index()\n",
    "model_data"
   ]
  },
  {
   "cell_type": "code",
   "execution_count": 4,
   "metadata": {},
   "outputs": [
    {
     "data": {
      "text/plain": [
       "LinearRegression(copy_X=True, fit_intercept=True, n_jobs=None, normalize=False)"
      ]
     },
     "execution_count": 4,
     "metadata": {},
     "output_type": "execute_result"
    }
   ],
   "source": [
    "# split the data and fit \n",
    "\n",
    "dates = model_data['submission_date']\n",
    "dates = pd.to_datetime(dates).to_frame()\n",
    "cases = model_data['tot_cases'].to_frame()\n",
    "\n",
    "# train-test split\n",
    "X_train, X_test, y_train, y_test = train_test_split(dates, cases, test_size=0.30, random_state=42)\n",
    "\n",
    "X_train_int = X_train.squeeze().map(datetime.toordinal).to_frame()\n",
    "X_test_int = X_test.squeeze().map(datetime.toordinal).to_frame()\n",
    "\n",
    "# fit\n",
    "# https://scikit-learn.org/stable/modules/generated/sklearn.preprocessing.PolynomialFeatures.html\n",
    "# polynomial_features = PolynomialFeatures(degree = 5)\n",
    "# X_train_transf = polynomial_features.fit_transform(X_train)\n",
    "\n",
    "model = LinearRegression()\n",
    "model.fit(X_train_int, y_train)"
   ]
  },
  {
   "cell_type": "code",
   "execution_count": 5,
   "metadata": {},
   "outputs": [
    {
     "name": "stdout",
     "output_type": "stream",
     "text": [
      "3674247.016622766\n",
      "0.888510733879807\n"
     ]
    },
    {
     "data": {
      "text/plain": [
       "<Figure size 1200x1200 with 0 Axes>"
      ]
     },
     "execution_count": 5,
     "metadata": {},
     "output_type": "execute_result"
    },
    {
     "data": {
      "image/png": "[encoded data removed]",
      "text/plain": [
       "<Figure size 432x288 with 1 Axes>"
      ]
     },
     "metadata": {
      "needs_background": "light"
     },
     "output_type": "display_data"
    },
    {
     "data": {
      "text/plain": [
       "<Figure size 1200x1200 with 0 Axes>"
      ]
     },
     "metadata": {},
     "output_type": "display_data"
    }
   ],
   "source": [
    "# test\n",
    "y_new_pred = model.predict(X_train_int)\n",
    "\n",
    "# calculate bias and variance\n",
    "rmse = np.sqrt(mean_squared_error(y_train,y_new_pred))\n",
    "r2 = r2_score(y_train,y_new_pred)\n",
    "print(rmse)\n",
    "print(r2)\n",
    "\n",
    "# plot some stuff\n",
    "plt.scatter(X_train, y_train)\n",
    "plt.plot(X_train, y_new_pred)\n",
    "figure(figsize=(15, 15), dpi=80)"
   ]
  },
  {
   "cell_type": "code",
   "execution_count": 6,
   "metadata": {},
   "outputs": [
    {
     "name": "stdout",
     "output_type": "stream",
     "text": [
      "3881132.704130898\n",
      "0.8750791029679099\n"
     ]
    },
    {
     "data": {
      "text/plain": [
       "<function matplotlib.pyplot.show(close=None, block=None)>"
      ]
     },
     "execution_count": 6,
     "metadata": {},
     "output_type": "execute_result"
    },
    {
     "data": {
      "image/png": "[encoded data removed]",
      "text/plain": [
       "<Figure size 432x288 with 1 Axes>"
      ]
     },
     "metadata": {
      "needs_background": "light"
     },
     "output_type": "display_data"
    }
   ],
   "source": [
    "# predict\n",
    "#X_test_transf = polynomial_features.fit_transform(X_test)\n",
    "y_pred = model.predict(X_test_int)\n",
    "\n",
    "# calculate bias and variance\n",
    "rmse = np.sqrt(mean_squared_error(y_test,y_pred))\n",
    "r2 = r2_score(y_test,y_pred)\n",
    "print(rmse)\n",
    "print(r2)\n",
    "\n",
    "# plot \n",
    "plt.plot(X_test, y_pred, color='coral', linewidth=3)\n",
    "plt.scatter(X_test, y_test)\n",
    "plt.show"
   ]
  },
  {
   "cell_type": "code",
   "execution_count": 7,
   "metadata": {},
   "outputs": [
    {
     "name": "stdout",
     "output_type": "stream",
     "text": [
      "                    0\n",
      "2021-05-04 2021-05-04\n",
      "2021-05-05 2021-05-05\n",
      "2021-05-06 2021-05-06\n",
      "2021-05-07 2021-05-07\n",
      "2021-05-08 2021-05-08\n",
      "...               ...\n",
      "2022-04-30 2022-04-30\n",
      "2022-05-01 2022-05-01\n",
      "2022-05-02 2022-05-02\n",
      "2022-05-03 2022-05-03\n",
      "2022-05-04 2022-05-04\n",
      "\n",
      "[366 rows x 1 columns]\n"
     ]
    },
    {
     "data": {
      "text/plain": [
       "[<matplotlib.lines.Line2D at 0x12a02b550>]"
      ]
     },
     "execution_count": 7,
     "metadata": {},
     "output_type": "execute_result"
    },
    {
     "data": {
      "image/png": "[encoded data removed]",
      "text/plain": [
       "<Figure size 432x288 with 1 Axes>"
      ]
     },
     "metadata": {
      "needs_background": "light"
     },
     "output_type": "display_data"
    }
   ],
   "source": [
    "# predict for future\n",
    "dates_to_predict = pd.date_range(start='2021-05-04', end='2022-05-04').to_frame()\n",
    "print(dates_to_predict)\n",
    "\n",
    "dates_to_predict_int = dates_to_predict.squeeze().map(datetime.toordinal).to_frame()\n",
    "\n",
    "# predict\n",
    "y_pred_future = model.predict(dates_to_predict_int)\n",
    "\n",
    "# plot\n",
    "plt.plot(dates_to_predict, y_pred_future)"
   ]
  },
  {
   "cell_type": "code",
   "execution_count": 8,
   "metadata": {},
   "outputs": [],
   "source": [
    "# # load to csv\n",
    "\n",
    "# # actual data\n",
    "# model_data.to_csv('csv_files/actual_data.csv')\n",
    "\n",
    "\n",
    "# # model predictions data\n",
    "# dates_int = dates.squeeze().map(datetime.toordinal).to_frame()\n",
    "# y_pred_data = model.predict(dates_int)\n",
    "# y_pred = pd.DataFrame(y_pred_data)\n",
    "# model_pred = dates.join(y_pred)\n",
    "# model_pred.columns = ['submission_date', 'tot_cases_pred']\n",
    "# model_pred.to_csv('csv_files/pred_on_data.csv')\n",
    "\n",
    "\n",
    "# # model predictions for future\n",
    "# y_pred_fut = pd.DataFrame(y_pred_future)\n",
    "# y_pred_fut.columns = ['tot_cases_pred']\n",
    "# dates_to_predict.columns = ['date']\n",
    "# dates_to_predict = dates_to_predict.reset_index()\n",
    "# model_pred_fut = dates_to_predict.join(y_pred_fut)\n",
    "# model_pred_fut = model_pred_fut.drop(['index'], axis=1)\n",
    "# model_pred_fut.to_csv('csv_files/pred_for_future.csv')"
   ]
  },
  {
   "cell_type": "code",
   "execution_count": null,
   "metadata": {},
   "outputs": [],
   "source": []
  }
 ],
 "metadata": {
  "kernelspec": {
   "display_name": "Python 3",
   "language": "python",
   "name": "python3"
  },
  "language_info": {
   "codemirror_mode": {
    "name": "ipython",
    "version": 3
   },
   "file_extension": ".py",
   "mimetype": "text/x-python",
   "name": "python",
   "nbconvert_exporter": "python",
   "pygments_lexer": "ipython3",
   "version": "3.7.6"
  }
 },
 "nbformat": 4,
 "nbformat_minor": 4
}

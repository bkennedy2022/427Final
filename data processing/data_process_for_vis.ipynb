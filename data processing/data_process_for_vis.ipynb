{
 "cells": [
  {
   "cell_type": "code",
   "execution_count": 1,
   "metadata": {},
   "outputs": [],
   "source": [
    "from pyspark.sql import SparkSession\n",
    "from pyspark.sql.functions import col, when, avg, coalesce\n",
    "\n",
    "spark = SparkSession.builder.getOrCreate()"
   ]
  },
  {
   "cell_type": "code",
   "execution_count": 2,
   "metadata": {},
   "outputs": [
    {
     "ename": "Py4JJavaError",
     "evalue": "An error occurred while calling o24.csv.\n: org.apache.hadoop.fs.UnsupportedFileSystemException: No FileSystem for scheme \"s3\"\n\tat org.apache.hadoop.fs.FileSystem.getFileSystemClass(FileSystem.java:3281)\n\tat org.apache.hadoop.fs.FileSystem.createFileSystem(FileSystem.java:3301)\n\tat org.apache.hadoop.fs.FileSystem.access$200(FileSystem.java:124)\n\tat org.apache.hadoop.fs.FileSystem$Cache.getInternal(FileSystem.java:3352)\n\tat org.apache.hadoop.fs.FileSystem$Cache.get(FileSystem.java:3320)\n\tat org.apache.hadoop.fs.FileSystem.get(FileSystem.java:479)\n\tat org.apache.hadoop.fs.Path.getFileSystem(Path.java:361)\n\tat org.apache.spark.sql.execution.streaming.FileStreamSink$.hasMetadata(FileStreamSink.scala:46)\n\tat org.apache.spark.sql.execution.datasources.DataSource.resolveRelation(DataSource.scala:376)\n\tat org.apache.spark.sql.DataFrameReader.loadV1Source(DataFrameReader.scala:326)\n\tat org.apache.spark.sql.DataFrameReader.$anonfun$load$3(DataFrameReader.scala:308)\n\tat scala.Option.getOrElse(Option.scala:189)\n\tat org.apache.spark.sql.DataFrameReader.load(DataFrameReader.scala:308)\n\tat org.apache.spark.sql.DataFrameReader.csv(DataFrameReader.scala:796)\n\tat java.base/jdk.internal.reflect.NativeMethodAccessorImpl.invoke0(Native Method)\n\tat java.base/jdk.internal.reflect.NativeMethodAccessorImpl.invoke(NativeMethodAccessorImpl.java:62)\n\tat java.base/jdk.internal.reflect.DelegatingMethodAccessorImpl.invoke(DelegatingMethodAccessorImpl.java:43)\n\tat java.base/java.lang.reflect.Method.invoke(Method.java:567)\n\tat py4j.reflection.MethodInvoker.invoke(MethodInvoker.java:244)\n\tat py4j.reflection.ReflectionEngine.invoke(ReflectionEngine.java:357)\n\tat py4j.Gateway.invoke(Gateway.java:282)\n\tat py4j.commands.AbstractCommand.invokeMethod(AbstractCommand.java:132)\n\tat py4j.commands.CallCommand.execute(CallCommand.java:79)\n\tat py4j.GatewayConnection.run(GatewayConnection.java:238)\n\tat java.base/java.lang.Thread.run(Thread.java:830)\n",
     "output_type": "error",
     "traceback": [
      "\u001b[0;31m---------------------------------------------------------------------------\u001b[0m",
      "\u001b[0;31mPy4JJavaError\u001b[0m                             Traceback (most recent call last)",
      "\u001b[0;32m<ipython-input-2-644323c76679>\u001b[0m in \u001b[0;36m<module>\u001b[0;34m\u001b[0m\n\u001b[0;32m----> 1\u001b[0;31m \u001b[0mdf\u001b[0m \u001b[0;34m=\u001b[0m \u001b[0mspark\u001b[0m\u001b[0;34m.\u001b[0m\u001b[0mread\u001b[0m\u001b[0;34m.\u001b[0m\u001b[0moptions\u001b[0m\u001b[0;34m(\u001b[0m\u001b[0mheader\u001b[0m\u001b[0;34m=\u001b[0m\u001b[0;32mTrue\u001b[0m\u001b[0;34m)\u001b[0m\u001b[0;34m.\u001b[0m\u001b[0mcsv\u001b[0m\u001b[0;34m(\u001b[0m\u001b[0;34m's3://covid-data123/COVID-19_Case_Surveillance_Public_Use_Data_with_Geography.csv'\u001b[0m\u001b[0;34m)\u001b[0m\u001b[0;34m\u001b[0m\u001b[0;34m\u001b[0m\u001b[0m\n\u001b[0m",
      "\u001b[0;32m/usr/local/lib/python3.7/site-packages/pyspark/sql/readwriter.py\u001b[0m in \u001b[0;36mcsv\u001b[0;34m(self, path, schema, sep, encoding, quote, escape, comment, header, inferSchema, ignoreLeadingWhiteSpace, ignoreTrailingWhiteSpace, nullValue, nanValue, positiveInf, negativeInf, dateFormat, timestampFormat, maxColumns, maxCharsPerColumn, maxMalformedLogPerPartition, mode, columnNameOfCorruptRecord, multiLine, charToEscapeQuoteEscaping, samplingRatio, enforceSchema, emptyValue, locale, lineSep, pathGlobFilter, recursiveFileLookup, modifiedBefore, modifiedAfter, unescapedQuoteHandling)\u001b[0m\n\u001b[1;32m    735\u001b[0m             \u001b[0mpath\u001b[0m \u001b[0;34m=\u001b[0m \u001b[0;34m[\u001b[0m\u001b[0mpath\u001b[0m\u001b[0;34m]\u001b[0m\u001b[0;34m\u001b[0m\u001b[0;34m\u001b[0m\u001b[0m\n\u001b[1;32m    736\u001b[0m         \u001b[0;32mif\u001b[0m \u001b[0mtype\u001b[0m\u001b[0;34m(\u001b[0m\u001b[0mpath\u001b[0m\u001b[0;34m)\u001b[0m \u001b[0;34m==\u001b[0m \u001b[0mlist\u001b[0m\u001b[0;34m:\u001b[0m\u001b[0;34m\u001b[0m\u001b[0;34m\u001b[0m\u001b[0m\n\u001b[0;32m--> 737\u001b[0;31m             \u001b[0;32mreturn\u001b[0m \u001b[0mself\u001b[0m\u001b[0;34m.\u001b[0m\u001b[0m_df\u001b[0m\u001b[0;34m(\u001b[0m\u001b[0mself\u001b[0m\u001b[0;34m.\u001b[0m\u001b[0m_jreader\u001b[0m\u001b[0;34m.\u001b[0m\u001b[0mcsv\u001b[0m\u001b[0;34m(\u001b[0m\u001b[0mself\u001b[0m\u001b[0;34m.\u001b[0m\u001b[0m_spark\u001b[0m\u001b[0;34m.\u001b[0m\u001b[0m_sc\u001b[0m\u001b[0;34m.\u001b[0m\u001b[0m_jvm\u001b[0m\u001b[0;34m.\u001b[0m\u001b[0mPythonUtils\u001b[0m\u001b[0;34m.\u001b[0m\u001b[0mtoSeq\u001b[0m\u001b[0;34m(\u001b[0m\u001b[0mpath\u001b[0m\u001b[0;34m)\u001b[0m\u001b[0;34m)\u001b[0m\u001b[0;34m)\u001b[0m\u001b[0;34m\u001b[0m\u001b[0;34m\u001b[0m\u001b[0m\n\u001b[0m\u001b[1;32m    738\u001b[0m         \u001b[0;32melif\u001b[0m \u001b[0misinstance\u001b[0m\u001b[0;34m(\u001b[0m\u001b[0mpath\u001b[0m\u001b[0;34m,\u001b[0m \u001b[0mRDD\u001b[0m\u001b[0;34m)\u001b[0m\u001b[0;34m:\u001b[0m\u001b[0;34m\u001b[0m\u001b[0;34m\u001b[0m\u001b[0m\n\u001b[1;32m    739\u001b[0m             \u001b[0;32mdef\u001b[0m \u001b[0mfunc\u001b[0m\u001b[0;34m(\u001b[0m\u001b[0miterator\u001b[0m\u001b[0;34m)\u001b[0m\u001b[0;34m:\u001b[0m\u001b[0;34m\u001b[0m\u001b[0;34m\u001b[0m\u001b[0m\n",
      "\u001b[0;32m/usr/local/lib/python3.7/site-packages/py4j/java_gateway.py\u001b[0m in \u001b[0;36m__call__\u001b[0;34m(self, *args)\u001b[0m\n\u001b[1;32m   1303\u001b[0m         \u001b[0manswer\u001b[0m \u001b[0;34m=\u001b[0m \u001b[0mself\u001b[0m\u001b[0;34m.\u001b[0m\u001b[0mgateway_client\u001b[0m\u001b[0;34m.\u001b[0m\u001b[0msend_command\u001b[0m\u001b[0;34m(\u001b[0m\u001b[0mcommand\u001b[0m\u001b[0;34m)\u001b[0m\u001b[0;34m\u001b[0m\u001b[0;34m\u001b[0m\u001b[0m\n\u001b[1;32m   1304\u001b[0m         return_value = get_return_value(\n\u001b[0;32m-> 1305\u001b[0;31m             answer, self.gateway_client, self.target_id, self.name)\n\u001b[0m\u001b[1;32m   1306\u001b[0m \u001b[0;34m\u001b[0m\u001b[0m\n\u001b[1;32m   1307\u001b[0m         \u001b[0;32mfor\u001b[0m \u001b[0mtemp_arg\u001b[0m \u001b[0;32min\u001b[0m \u001b[0mtemp_args\u001b[0m\u001b[0;34m:\u001b[0m\u001b[0;34m\u001b[0m\u001b[0;34m\u001b[0m\u001b[0m\n",
      "\u001b[0;32m/usr/local/lib/python3.7/site-packages/pyspark/sql/utils.py\u001b[0m in \u001b[0;36mdeco\u001b[0;34m(*a, **kw)\u001b[0m\n\u001b[1;32m    109\u001b[0m     \u001b[0;32mdef\u001b[0m \u001b[0mdeco\u001b[0m\u001b[0;34m(\u001b[0m\u001b[0;34m*\u001b[0m\u001b[0ma\u001b[0m\u001b[0;34m,\u001b[0m \u001b[0;34m**\u001b[0m\u001b[0mkw\u001b[0m\u001b[0;34m)\u001b[0m\u001b[0;34m:\u001b[0m\u001b[0;34m\u001b[0m\u001b[0;34m\u001b[0m\u001b[0m\n\u001b[1;32m    110\u001b[0m         \u001b[0;32mtry\u001b[0m\u001b[0;34m:\u001b[0m\u001b[0;34m\u001b[0m\u001b[0;34m\u001b[0m\u001b[0m\n\u001b[0;32m--> 111\u001b[0;31m             \u001b[0;32mreturn\u001b[0m \u001b[0mf\u001b[0m\u001b[0;34m(\u001b[0m\u001b[0;34m*\u001b[0m\u001b[0ma\u001b[0m\u001b[0;34m,\u001b[0m \u001b[0;34m**\u001b[0m\u001b[0mkw\u001b[0m\u001b[0;34m)\u001b[0m\u001b[0;34m\u001b[0m\u001b[0;34m\u001b[0m\u001b[0m\n\u001b[0m\u001b[1;32m    112\u001b[0m         \u001b[0;32mexcept\u001b[0m \u001b[0mpy4j\u001b[0m\u001b[0;34m.\u001b[0m\u001b[0mprotocol\u001b[0m\u001b[0;34m.\u001b[0m\u001b[0mPy4JJavaError\u001b[0m \u001b[0;32mas\u001b[0m \u001b[0me\u001b[0m\u001b[0;34m:\u001b[0m\u001b[0;34m\u001b[0m\u001b[0;34m\u001b[0m\u001b[0m\n\u001b[1;32m    113\u001b[0m             \u001b[0mconverted\u001b[0m \u001b[0;34m=\u001b[0m \u001b[0mconvert_exception\u001b[0m\u001b[0;34m(\u001b[0m\u001b[0me\u001b[0m\u001b[0;34m.\u001b[0m\u001b[0mjava_exception\u001b[0m\u001b[0;34m)\u001b[0m\u001b[0;34m\u001b[0m\u001b[0;34m\u001b[0m\u001b[0m\n",
      "\u001b[0;32m/usr/local/lib/python3.7/site-packages/py4j/protocol.py\u001b[0m in \u001b[0;36mget_return_value\u001b[0;34m(answer, gateway_client, target_id, name)\u001b[0m\n\u001b[1;32m    326\u001b[0m                 raise Py4JJavaError(\n\u001b[1;32m    327\u001b[0m                     \u001b[0;34m\"An error occurred while calling {0}{1}{2}.\\n\"\u001b[0m\u001b[0;34m.\u001b[0m\u001b[0;34m\u001b[0m\u001b[0;34m\u001b[0m\u001b[0m\n\u001b[0;32m--> 328\u001b[0;31m                     format(target_id, \".\", name), value)\n\u001b[0m\u001b[1;32m    329\u001b[0m             \u001b[0;32melse\u001b[0m\u001b[0;34m:\u001b[0m\u001b[0;34m\u001b[0m\u001b[0;34m\u001b[0m\u001b[0m\n\u001b[1;32m    330\u001b[0m                 raise Py4JError(\n",
      "\u001b[0;31mPy4JJavaError\u001b[0m: An error occurred while calling o24.csv.\n: org.apache.hadoop.fs.UnsupportedFileSystemException: No FileSystem for scheme \"s3\"\n\tat org.apache.hadoop.fs.FileSystem.getFileSystemClass(FileSystem.java:3281)\n\tat org.apache.hadoop.fs.FileSystem.createFileSystem(FileSystem.java:3301)\n\tat org.apache.hadoop.fs.FileSystem.access$200(FileSystem.java:124)\n\tat org.apache.hadoop.fs.FileSystem$Cache.getInternal(FileSystem.java:3352)\n\tat org.apache.hadoop.fs.FileSystem$Cache.get(FileSystem.java:3320)\n\tat org.apache.hadoop.fs.FileSystem.get(FileSystem.java:479)\n\tat org.apache.hadoop.fs.Path.getFileSystem(Path.java:361)\n\tat org.apache.spark.sql.execution.streaming.FileStreamSink$.hasMetadata(FileStreamSink.scala:46)\n\tat org.apache.spark.sql.execution.datasources.DataSource.resolveRelation(DataSource.scala:376)\n\tat org.apache.spark.sql.DataFrameReader.loadV1Source(DataFrameReader.scala:326)\n\tat org.apache.spark.sql.DataFrameReader.$anonfun$load$3(DataFrameReader.scala:308)\n\tat scala.Option.getOrElse(Option.scala:189)\n\tat org.apache.spark.sql.DataFrameReader.load(DataFrameReader.scala:308)\n\tat org.apache.spark.sql.DataFrameReader.csv(DataFrameReader.scala:796)\n\tat java.base/jdk.internal.reflect.NativeMethodAccessorImpl.invoke0(Native Method)\n\tat java.base/jdk.internal.reflect.NativeMethodAccessorImpl.invoke(NativeMethodAccessorImpl.java:62)\n\tat java.base/jdk.internal.reflect.DelegatingMethodAccessorImpl.invoke(DelegatingMethodAccessorImpl.java:43)\n\tat java.base/java.lang.reflect.Method.invoke(Method.java:567)\n\tat py4j.reflection.MethodInvoker.invoke(MethodInvoker.java:244)\n\tat py4j.reflection.ReflectionEngine.invoke(ReflectionEngine.java:357)\n\tat py4j.Gateway.invoke(Gateway.java:282)\n\tat py4j.commands.AbstractCommand.invokeMethod(AbstractCommand.java:132)\n\tat py4j.commands.CallCommand.execute(CallCommand.java:79)\n\tat py4j.GatewayConnection.run(GatewayConnection.java:238)\n\tat java.base/java.lang.Thread.run(Thread.java:830)\n"
     ]
    }
   ],
   "source": [
    "df = spark.read.options(header=True).csv('s3://covid-data123/COVID-19_Case_Surveillance_Public_Use_Data_with_Geography.csv')"
   ]
  },
  {
   "cell_type": "code",
   "execution_count": 3,
   "metadata": {},
   "outputs": [
    {
     "data": {
      "application/vnd.jupyter.widget-view+json": {
       "model_id": "5df2e8dca54e44d78b990dbe54363a9d",
       "version_major": 2,
       "version_minor": 0
      },
      "text/plain": [
       "VBox()"
      ]
     },
     "metadata": {},
     "output_type": "display_data"
    },
    {
     "data": {
      "application/vnd.jupyter.widget-view+json": {
       "model_id": "",
       "version_major": 2,
       "version_minor": 0
      },
      "text/plain": [
       "FloatProgress(value=0.0, bar_style='info', description='Progress:', layout=Layout(height='25px', width='50%'),…"
      ]
     },
     "metadata": {},
     "output_type": "display_data"
    },
    {
     "name": "stdout",
     "output_type": "stream",
     "text": [
      "22507139"
     ]
    }
   ],
   "source": [
    "df.count()"
   ]
  },
  {
   "cell_type": "code",
   "execution_count": 13,
   "metadata": {},
   "outputs": [
    {
     "data": {
      "application/vnd.jupyter.widget-view+json": {
       "model_id": "ec5a44389682499d9bf124f2cbf8ce02",
       "version_major": 2,
       "version_minor": 0
      },
      "text/plain": [
       "VBox()"
      ]
     },
     "metadata": {},
     "output_type": "display_data"
    },
    {
     "data": {
      "application/vnd.jupyter.widget-view+json": {
       "model_id": "",
       "version_major": 2,
       "version_minor": 0
      },
      "text/plain": [
       "FloatProgress(value=0.0, bar_style='info', description='Progress:', layout=Layout(height='25px', width='50%'),…"
      ]
     },
     "metadata": {},
     "output_type": "display_data"
    },
    {
     "name": "stdout",
     "output_type": "stream",
     "text": [
      "20891650"
     ]
    }
   ],
   "source": [
    "df = df.filter((col('res_state') != 'NA') & (col('res_county') != 'NA'))\n",
    "# df.show(3)"
   ]
  },
  {
   "cell_type": "code",
   "execution_count": 14,
   "metadata": {},
   "outputs": [
    {
     "data": {
      "application/vnd.jupyter.widget-view+json": {
       "model_id": "874d872c323f4f949d3e383e52c521e4",
       "version_major": 2,
       "version_minor": 0
      },
      "text/plain": [
       "VBox()"
      ]
     },
     "metadata": {},
     "output_type": "display_data"
    },
    {
     "data": {
      "application/vnd.jupyter.widget-view+json": {
       "model_id": "",
       "version_major": 2,
       "version_minor": 0
      },
      "text/plain": [
       "FloatProgress(value=0.0, bar_style='info', description='Progress:', layout=Layout(height='25px', width='50%'),…"
      ]
     },
     "metadata": {},
     "output_type": "display_data"
    },
    {
     "name": "stdout",
     "output_type": "stream",
     "text": [
      "+----------+---------+---------------+----------+----------------+---------+---+----+---------+-------------------------------+-------------------+-------+-----------+--------------------+--------------+-------+-------+--------+------------------------+\n",
      "|case_month|res_state|state_fips_code|res_county|county_fips_code|age_group|sex|race|ethnicity|case_positive_specimen_interval|case_onset_interval|process|exposure_yn|      current_status|symptom_status|hosp_yn| icu_yn|death_yn|underlying_conditions_yn|\n",
      "+----------+---------+---------------+----------+----------------+---------+---+----+---------+-------------------------------+-------------------+-------+-----------+--------------------+--------------+-------+-------+--------+------------------------+\n",
      "|   2020-07|       SC|             45| ABBEVILLE|           45001|       NA| NA|  NA|       NA|                           null|                  0|Missing|    Missing|Laboratory-confir...|   Symptomatic|     No|Missing|      NA|                    null|\n",
      "|   2020-07|       SC|             45| ABBEVILLE|           45001|       NA| NA|  NA|       NA|                           null|               null|Missing|    Missing|Laboratory-confir...|       Missing|    Yes|Missing|      NA|                    null|\n",
      "|   2020-07|       SC|             45| ABBEVILLE|           45001|       NA| NA|  NA|       NA|                           null|                  0|Missing|    Missing|       Probable Case|   Symptomatic|     No|Missing|      NA|                    null|\n",
      "+----------+---------+---------------+----------+----------------+---------+---+----+---------+-------------------------------+-------------------+-------+-----------+--------------------+--------------+-------+-------+--------+------------------------+\n",
      "only showing top 3 rows"
     ]
    }
   ],
   "source": [
    "df.show(3)"
   ]
  },
  {
   "cell_type": "code",
   "execution_count": 17,
   "metadata": {},
   "outputs": [
    {
     "data": {
      "application/vnd.jupyter.widget-view+json": {
       "model_id": "2f6a55b812c24ff2996863f5ec4674b6",
       "version_major": 2,
       "version_minor": 0
      },
      "text/plain": [
       "VBox()"
      ]
     },
     "metadata": {},
     "output_type": "display_data"
    },
    {
     "data": {
      "application/vnd.jupyter.widget-view+json": {
       "model_id": "",
       "version_major": 2,
       "version_minor": 0
      },
      "text/plain": [
       "FloatProgress(value=0.0, bar_style='info', description='Progress:', layout=Layout(height='25px', width='50%'),…"
      ]
     },
     "metadata": {},
     "output_type": "display_data"
    },
    {
     "name": "stdout",
     "output_type": "stream",
     "text": [
      "16602569"
     ]
    }
   ],
   "source": [
    "filtered = df.filter((col('age_group') != 'NA') & (col('race') != 'NA') & (col('sex') != 'NA') & (col('ethnicity') != 'NA'))\n",
    "filtered.count()"
   ]
  },
  {
   "cell_type": "code",
   "execution_count": 20,
   "metadata": {},
   "outputs": [
    {
     "data": {
      "application/vnd.jupyter.widget-view+json": {
       "model_id": "9b1f7a88e0e54d59ad9781ad17b0dd5d",
       "version_major": 2,
       "version_minor": 0
      },
      "text/plain": [
       "VBox()"
      ]
     },
     "metadata": {},
     "output_type": "display_data"
    },
    {
     "data": {
      "application/vnd.jupyter.widget-view+json": {
       "model_id": "",
       "version_major": 2,
       "version_minor": 0
      },
      "text/plain": [
       "FloatProgress(value=0.0, bar_style='info', description='Progress:', layout=Layout(height='25px', width='50%'),…"
      ]
     },
     "metadata": {},
     "output_type": "display_data"
    },
    {
     "name": "stdout",
     "output_type": "stream",
     "text": [
      "+----------+---------+---------------+----------+----------------+--------------+------+--------------------+---------------+-------------------------------+-------------------+-------+-----------+--------------------+--------------+-------+-------+--------+------------------------+\n",
      "|case_month|res_state|state_fips_code|res_county|county_fips_code|     age_group|   sex|                race|      ethnicity|case_positive_specimen_interval|case_onset_interval|process|exposure_yn|      current_status|symptom_status|hosp_yn| icu_yn|death_yn|underlying_conditions_yn|\n",
      "+----------+---------+---------------+----------+----------------+--------------+------+--------------------+---------------+-------------------------------+-------------------+-------+-----------+--------------------+--------------+-------+-------+--------+------------------------+\n",
      "|   2020-07|       AZ|             04|  MARICOPA|           04013|  0 - 17 years|Female|American Indian/A...|Hispanic/Latino|                           null|               null|Missing|    Missing|Laboratory-confir...|       Missing|Missing|Missing|      NA|                    null|\n",
      "|   2020-07|       AZ|             04|  MARICOPA|           04013|  0 - 17 years|Female|American Indian/A...|Hispanic/Latino|                           null|                  0|Missing|    Missing|Laboratory-confir...|   Symptomatic|Missing|Missing|      NA|                    null|\n",
      "|   2020-07|       AZ|             04|  MARICOPA|           04013|  0 - 17 years|Female|American Indian/A...|Hispanic/Latino|                           null|               null|Missing|    Missing|Laboratory-confir...|       Missing|Missing|Missing|      NA|                    null|\n",
      "|   2020-07|       AZ|             04|  MARICOPA|           04013|  0 - 17 years|Female|American Indian/A...|Hispanic/Latino|                           null|               null|Missing|    Missing|Laboratory-confir...|       Missing|Missing|Missing|      NA|                    null|\n",
      "|   2020-12|       AZ|             04|      PIMA|           04019|  0 - 17 years|Female|American Indian/A...|Hispanic/Latino|                           null|               null|Missing|    Missing|       Probable Case|       Missing|Missing|Missing|      NA|                    null|\n",
      "|   2020-12|       AZ|             04|      PIMA|           04019|  0 - 17 years|Female|American Indian/A...|Hispanic/Latino|                           null|                  0|Missing|    Missing|Laboratory-confir...|   Symptomatic|Missing|Missing|      NA|                    null|\n",
      "|   2020-12|       AZ|             04|      PIMA|           04019|  0 - 17 years|Female|American Indian/A...|Hispanic/Latino|                           null|               null|Missing|    Missing|Laboratory-confir...|       Missing|Missing|Missing|      NA|                    null|\n",
      "|   2020-12|       AZ|             04|      PIMA|           04019|  0 - 17 years|Female|American Indian/A...|Hispanic/Latino|                           null|               null|Missing|    Missing|Laboratory-confir...|       Missing|    Yes|Missing|      NA|                    null|\n",
      "|   2021-01|       NY|             36|     BRONX|           36005|18 to 49 years|Female|American Indian/A...|Hispanic/Latino|                              0|               null|Missing|    Missing|Laboratory-confir...|       Unknown|    Yes|    Yes|      NA|                     Yes|\n",
      "|   2021-02|       IL|             17|      COOK|           17031|18 to 49 years|Female|American Indian/A...|Hispanic/Latino|                           null|                  0|Missing|    Missing|Laboratory-confir...|       Missing|Missing|Missing| Missing|                    null|\n",
      "|   2021-02|       IL|             17|      COOK|           17031|18 to 49 years|Female|American Indian/A...|Hispanic/Latino|                           null|                  0|Missing|    Missing|Laboratory-confir...|       Missing|Missing|Missing| Missing|                    null|\n",
      "|   2021-02|       IL|             17|      COOK|           17031|18 to 49 years|Female|American Indian/A...|Hispanic/Latino|                           null|                  0|Missing|    Missing|Laboratory-confir...|       Missing|Missing|Missing| Missing|                    null|\n",
      "|   2021-02|       IL|             17|      COOK|           17031|18 to 49 years|Female|American Indian/A...|Hispanic/Latino|                           null|                  0|Missing|    Missing|Laboratory-confir...|       Missing|Missing|Missing| Missing|                    null|\n",
      "|   2021-02|       IL|             17|      COOK|           17031|18 to 49 years|Female|American Indian/A...|Hispanic/Latino|                           null|                  0|Missing|    Missing|Laboratory-confir...|       Missing|Missing|Missing| Missing|                    null|\n",
      "|   2021-02|       IL|             17|      COOK|           17031|18 to 49 years|Female|American Indian/A...|Hispanic/Latino|                           null|                  0|Missing|    Missing|Laboratory-confir...|       Missing|Missing|Missing| Missing|                    null|\n",
      "|   2021-02|       IL|             17|      COOK|           17031|18 to 49 years|Female|American Indian/A...|Hispanic/Latino|                           null|                  0|Missing|    Missing|Laboratory-confir...|       Missing|Missing|Missing| Missing|                    null|\n",
      "|   2021-02|       IL|             17|      COOK|           17031|18 to 49 years|Female|American Indian/A...|Hispanic/Latino|                           null|                  0|Missing|    Missing|Laboratory-confir...|       Missing|Missing|Missing| Missing|                    null|\n",
      "|   2021-02|       IL|             17|      COOK|           17031|18 to 49 years|Female|American Indian/A...|Hispanic/Latino|                           null|                  0|Missing|    Missing|Laboratory-confir...|       Missing|Missing|Missing| Missing|                    null|\n",
      "|   2021-02|       IL|             17|      COOK|           17031|18 to 49 years|Female|American Indian/A...|Hispanic/Latino|                           null|                  0|Missing|    Missing|Laboratory-confir...|       Missing|Missing|Missing| Missing|                    null|\n",
      "|   2021-02|       IL|             17|      COOK|           17031|18 to 49 years|Female|American Indian/A...|Hispanic/Latino|                           null|                  0|Missing|    Missing|Laboratory-confir...|       Missing|Missing|Missing| Missing|                    null|\n",
      "+----------+---------+---------------+----------+----------------+--------------+------+--------------------+---------------+-------------------------------+-------------------+-------+-----------+--------------------+--------------+-------+-------+--------+------------------------+\n",
      "only showing top 20 rows"
     ]
    }
   ],
   "source": [
    "cleaned = filtered.filter((col('age_group') != 'Missing') & (col('race') != 'Missing') & (col('sex') != 'Missing') & (col('ethnicity') != 'Missing'))\n",
    "cleaned = cleaned.filter((col('age_group') != 'Unknown') & (col('race') != 'Unknown') & (col('sex') != 'Unknown') & (col('ethnicity') != 'Unknown'))\n",
    "cleaned.show()"
   ]
  },
  {
   "cell_type": "code",
   "execution_count": 21,
   "metadata": {},
   "outputs": [
    {
     "data": {
      "application/vnd.jupyter.widget-view+json": {
       "model_id": "2dfd532ca7734b5580c1ce42769abf74",
       "version_major": 2,
       "version_minor": 0
      },
      "text/plain": [
       "VBox()"
      ]
     },
     "metadata": {},
     "output_type": "display_data"
    },
    {
     "data": {
      "application/vnd.jupyter.widget-view+json": {
       "model_id": "",
       "version_major": 2,
       "version_minor": 0
      },
      "text/plain": [
       "FloatProgress(value=0.0, bar_style='info', description='Progress:', layout=Layout(height='25px', width='50%'),…"
      ]
     },
     "metadata": {},
     "output_type": "display_data"
    },
    {
     "name": "stdout",
     "output_type": "stream",
     "text": [
      "9132637"
     ]
    }
   ],
   "source": [
    "cleaned.count()"
   ]
  },
  {
   "cell_type": "code",
   "execution_count": 22,
   "metadata": {},
   "outputs": [
    {
     "data": {
      "application/vnd.jupyter.widget-view+json": {
       "model_id": "584d8d241f0e45ae8165f0edf73c05df",
       "version_major": 2,
       "version_minor": 0
      },
      "text/plain": [
       "VBox()"
      ]
     },
     "metadata": {},
     "output_type": "display_data"
    },
    {
     "data": {
      "application/vnd.jupyter.widget-view+json": {
       "model_id": "",
       "version_major": 2,
       "version_minor": 0
      },
      "text/plain": [
       "FloatProgress(value=0.0, bar_style='info', description='Progress:', layout=Layout(height='25px', width='50%'),…"
      ]
     },
     "metadata": {},
     "output_type": "display_data"
    },
    {
     "name": "stdout",
     "output_type": "stream",
     "text": [
      "+---------+----------+--------------+------+--------------------+---------------+\n",
      "|res_state|res_county|     age_group|   sex|                race|      ethnicity|\n",
      "+---------+----------+--------------+------+--------------------+---------------+\n",
      "|       AZ|  MARICOPA|  0 - 17 years|Female|American Indian/A...|Hispanic/Latino|\n",
      "|       AZ|  MARICOPA|  0 - 17 years|Female|American Indian/A...|Hispanic/Latino|\n",
      "|       AZ|  MARICOPA|  0 - 17 years|Female|American Indian/A...|Hispanic/Latino|\n",
      "|       AZ|  MARICOPA|  0 - 17 years|Female|American Indian/A...|Hispanic/Latino|\n",
      "|       AZ|      PIMA|  0 - 17 years|Female|American Indian/A...|Hispanic/Latino|\n",
      "|       AZ|      PIMA|  0 - 17 years|Female|American Indian/A...|Hispanic/Latino|\n",
      "|       AZ|      PIMA|  0 - 17 years|Female|American Indian/A...|Hispanic/Latino|\n",
      "|       AZ|      PIMA|  0 - 17 years|Female|American Indian/A...|Hispanic/Latino|\n",
      "|       NY|     BRONX|18 to 49 years|Female|American Indian/A...|Hispanic/Latino|\n",
      "|       IL|      COOK|18 to 49 years|Female|American Indian/A...|Hispanic/Latino|\n",
      "|       IL|      COOK|18 to 49 years|Female|American Indian/A...|Hispanic/Latino|\n",
      "|       IL|      COOK|18 to 49 years|Female|American Indian/A...|Hispanic/Latino|\n",
      "|       IL|      COOK|18 to 49 years|Female|American Indian/A...|Hispanic/Latino|\n",
      "|       IL|      COOK|18 to 49 years|Female|American Indian/A...|Hispanic/Latino|\n",
      "|       IL|      COOK|18 to 49 years|Female|American Indian/A...|Hispanic/Latino|\n",
      "|       IL|      COOK|18 to 49 years|Female|American Indian/A...|Hispanic/Latino|\n",
      "|       IL|      COOK|18 to 49 years|Female|American Indian/A...|Hispanic/Latino|\n",
      "|       IL|      COOK|18 to 49 years|Female|American Indian/A...|Hispanic/Latino|\n",
      "|       IL|      COOK|18 to 49 years|Female|American Indian/A...|Hispanic/Latino|\n",
      "|       IL|      COOK|18 to 49 years|Female|American Indian/A...|Hispanic/Latino|\n",
      "+---------+----------+--------------+------+--------------------+---------------+\n",
      "only showing top 20 rows"
     ]
    }
   ],
   "source": [
    "df = cleaned.select(col('res_state'), col('res_county'), col('age_group'), col('sex'), col('race'), col('ethnicity'))\n",
    "df.show()"
   ]
  },
  {
   "cell_type": "code",
   "execution_count": 23,
   "metadata": {},
   "outputs": [
    {
     "data": {
      "application/vnd.jupyter.widget-view+json": {
       "model_id": "efe267308ab343ce84e45bc681124721",
       "version_major": 2,
       "version_minor": 0
      },
      "text/plain": [
       "VBox()"
      ]
     },
     "metadata": {},
     "output_type": "display_data"
    },
    {
     "data": {
      "application/vnd.jupyter.widget-view+json": {
       "model_id": "",
       "version_major": 2,
       "version_minor": 0
      },
      "text/plain": [
       "FloatProgress(value=0.0, bar_style='info', description='Progress:', layout=Layout(height='25px', width='50%'),…"
      ]
     },
     "metadata": {},
     "output_type": "display_data"
    },
    {
     "name": "stdout",
     "output_type": "stream",
     "text": [
      "+--------------+-----+\n",
      "|    res_county|count|\n",
      "+--------------+-----+\n",
      "|       JOHNSON|54843|\n",
      "|         OSAGE| 2418|\n",
      "|      PONTOTOC| 3118|\n",
      "|     LA CROSSE| 8988|\n",
      "|      BEAUFORT| 9888|\n",
      "|        BRAZOS| 2362|\n",
      "|        WALKER| 4232|\n",
      "|     CLARENDON| 1219|\n",
      "|    ORANGEBURG| 5744|\n",
      "|        RACINE|15779|\n",
      "|    GEORGETOWN| 4237|\n",
      "|        PIERCE|12633|\n",
      "|       MCCLAIN| 2894|\n",
      "|        GIBSON| 4062|\n",
      "|ST. LOUIS CITY| 3117|\n",
      "|    BERNALILLO| 6496|\n",
      "|      MONTEREY| 3116|\n",
      "|         JONES| 2699|\n",
      "|      CANADIAN| 9167|\n",
      "|    GREENVILLE|38285|\n",
      "+--------------+-----+\n",
      "only showing top 20 rows"
     ]
    }
   ],
   "source": [
    "cases = df.groupBy(col('res_county')).count()\n",
    "cases.show()"
   ]
  },
  {
   "cell_type": "code",
   "execution_count": 24,
   "metadata": {},
   "outputs": [
    {
     "data": {
      "application/vnd.jupyter.widget-view+json": {
       "model_id": "53de1ccd7ea04dd2af2aa2b68249a106",
       "version_major": 2,
       "version_minor": 0
      },
      "text/plain": [
       "VBox()"
      ]
     },
     "metadata": {},
     "output_type": "display_data"
    },
    {
     "data": {
      "application/vnd.jupyter.widget-view+json": {
       "model_id": "",
       "version_major": 2,
       "version_minor": 0
      },
      "text/plain": [
       "FloatProgress(value=0.0, bar_style='info', description='Progress:', layout=Layout(height='25px', width='50%'),…"
      ]
     },
     "metadata": {},
     "output_type": "display_data"
    },
    {
     "name": "stdout",
     "output_type": "stream",
     "text": [
      "989"
     ]
    }
   ],
   "source": [
    "cases.count()"
   ]
  },
  {
   "cell_type": "code",
   "execution_count": 26,
   "metadata": {},
   "outputs": [
    {
     "data": {
      "application/vnd.jupyter.widget-view+json": {
       "model_id": "de41e5f2f9a84e1da10df9d460be1b46",
       "version_major": 2,
       "version_minor": 0
      },
      "text/plain": [
       "VBox()"
      ]
     },
     "metadata": {},
     "output_type": "display_data"
    },
    {
     "data": {
      "application/vnd.jupyter.widget-view+json": {
       "model_id": "",
       "version_major": 2,
       "version_minor": 0
      },
      "text/plain": [
       "FloatProgress(value=0.0, bar_style='info', description='Progress:', layout=Layout(height='25px', width='50%'),…"
      ]
     },
     "metadata": {},
     "output_type": "display_data"
    },
    {
     "name": "stdout",
     "output_type": "stream",
     "text": [
      "+---------+------+\n",
      "|res_state| count|\n",
      "+---------+------+\n",
      "|       MN|286652|\n",
      "|       MD| 27611|\n",
      "|       MO| 24493|\n",
      "|       IL|511228|\n",
      "|       MS| 10222|\n",
      "|       SD| 27605|\n",
      "|       AK| 12371|\n",
      "|       UT|285111|\n",
      "|       HI| 11454|\n",
      "|       CA|850593|\n",
      "|       CT| 60589|\n",
      "|       NC|436223|\n",
      "|       ME| 25650|\n",
      "|       NM| 19984|\n",
      "|       IA|132655|\n",
      "|       AR|141352|\n",
      "|       AZ|503947|\n",
      "|       LA|  1045|\n",
      "|       NJ|231757|\n",
      "|       WI|354345|\n",
      "+---------+------+\n",
      "only showing top 20 rows"
     ]
    }
   ],
   "source": [
    "states = df.groupBy(col('res_state')).count()\n",
    "states.show()"
   ]
  },
  {
   "cell_type": "code",
   "execution_count": 27,
   "metadata": {},
   "outputs": [
    {
     "data": {
      "application/vnd.jupyter.widget-view+json": {
       "model_id": "a874a1818e434105ac6eb313aa33f222",
       "version_major": 2,
       "version_minor": 0
      },
      "text/plain": [
       "VBox()"
      ]
     },
     "metadata": {},
     "output_type": "display_data"
    },
    {
     "data": {
      "application/vnd.jupyter.widget-view+json": {
       "model_id": "",
       "version_major": 2,
       "version_minor": 0
      },
      "text/plain": [
       "FloatProgress(value=0.0, bar_style='info', description='Progress:', layout=Layout(height='25px', width='50%'),…"
      ]
     },
     "metadata": {},
     "output_type": "display_data"
    },
    {
     "name": "stdout",
     "output_type": "stream",
     "text": [
      "46"
     ]
    }
   ],
   "source": [
    "states.count()"
   ]
  },
  {
   "cell_type": "code",
   "execution_count": 37,
   "metadata": {},
   "outputs": [
    {
     "data": {
      "application/vnd.jupyter.widget-view+json": {
       "model_id": "4053e11438414b4099628d6d1c89a26f",
       "version_major": 2,
       "version_minor": 0
      },
      "text/plain": [
       "VBox()"
      ]
     },
     "metadata": {},
     "output_type": "display_data"
    },
    {
     "data": {
      "application/vnd.jupyter.widget-view+json": {
       "model_id": "",
       "version_major": 2,
       "version_minor": 0
      },
      "text/plain": [
       "FloatProgress(value=0.0, bar_style='info', description='Progress:', layout=Layout(height='25px', width='50%'),…"
      ]
     },
     "metadata": {},
     "output_type": "display_data"
    }
   ],
   "source": [
    "states.coalesce(1).write.csv('s3://covid-data123/processed_data/cases_by_states.csv')\n",
    "cases.coalesce(1).write.csv('s3://covid-data123/processed_data/cases_by_counties.csv')"
   ]
  },
  {
   "cell_type": "code",
   "execution_count": 43,
   "metadata": {},
   "outputs": [
    {
     "data": {
      "application/vnd.jupyter.widget-view+json": {
       "model_id": "88cdc3da850b41e98850e6b576263a74",
       "version_major": 2,
       "version_minor": 0
      },
      "text/plain": [
       "VBox()"
      ]
     },
     "metadata": {},
     "output_type": "display_data"
    },
    {
     "data": {
      "application/vnd.jupyter.widget-view+json": {
       "model_id": "",
       "version_major": 2,
       "version_minor": 0
      },
      "text/plain": [
       "FloatProgress(value=0.0, bar_style='info', description='Progress:', layout=Layout(height='25px', width='50%'),…"
      ]
     },
     "metadata": {},
     "output_type": "display_data"
    }
   ],
   "source": [
    "state_dem = df.select(col('res_state'), col('race'), col('sex'), col('age_group'), col('ethnicity'))\n",
    "state_dem.coalesce(1).write.csv('s3://covid-data123/processed_data/state_demographics.csv')"
   ]
  },
  {
   "cell_type": "code",
   "execution_count": 44,
   "metadata": {},
   "outputs": [
    {
     "data": {
      "application/vnd.jupyter.widget-view+json": {
       "model_id": "724f652a1cbc4edab371deea146a36ef",
       "version_major": 2,
       "version_minor": 0
      },
      "text/plain": [
       "VBox()"
      ]
     },
     "metadata": {},
     "output_type": "display_data"
    },
    {
     "data": {
      "application/vnd.jupyter.widget-view+json": {
       "model_id": "",
       "version_major": 2,
       "version_minor": 0
      },
      "text/plain": [
       "FloatProgress(value=0.0, bar_style='info', description='Progress:', layout=Layout(height='25px', width='50%'),…"
      ]
     },
     "metadata": {},
     "output_type": "display_data"
    },
    {
     "name": "stdout",
     "output_type": "stream",
     "text": [
      "+----------+-------+\n",
      "|case_month|  count|\n",
      "+----------+-------+\n",
      "|   2020-05| 210942|\n",
      "|   2021-02| 699414|\n",
      "|   2020-11|1465315|\n",
      "|   2020-07| 513753|\n",
      "|   2020-03| 136208|\n",
      "|   2020-09| 437849|\n",
      "|   2020-06| 316126|\n",
      "|   2021-03| 311304|\n",
      "|   2020-01|    159|\n",
      "|   2020-02|    169|\n",
      "|   2020-08| 404229|\n",
      "|   2021-01|1687891|\n",
      "|   2020-10| 787475|\n",
      "|   2020-12|1889466|\n",
      "|   2020-04| 272337|\n",
      "+----------+-------+"
     ]
    }
   ],
   "source": [
    "month_case = cleaned.groupBy('case_month').count()\n",
    "month_case.show()"
   ]
  },
  {
   "cell_type": "code",
   "execution_count": 45,
   "metadata": {},
   "outputs": [
    {
     "data": {
      "application/vnd.jupyter.widget-view+json": {
       "model_id": "7af9b5fa4992439691ff355d913e8bf7",
       "version_major": 2,
       "version_minor": 0
      },
      "text/plain": [
       "VBox()"
      ]
     },
     "metadata": {},
     "output_type": "display_data"
    },
    {
     "data": {
      "application/vnd.jupyter.widget-view+json": {
       "model_id": "",
       "version_major": 2,
       "version_minor": 0
      },
      "text/plain": [
       "FloatProgress(value=0.0, bar_style='info', description='Progress:', layout=Layout(height='25px', width='50%'),…"
      ]
     },
     "metadata": {},
     "output_type": "display_data"
    }
   ],
   "source": [
    "month_case.coalesce(1).write.csv('s3://covid-data123/processed_data/cases_by_month.csv')"
   ]
  },
  {
   "cell_type": "code",
   "execution_count": null,
   "metadata": {},
   "outputs": [],
   "source": []
  }
 ],
 "metadata": {
  "kernelspec": {
   "display_name": "Python 3",
   "language": "python",
   "name": "python3"
  },
  "language_info": {
   "codemirror_mode": {
    "name": "ipython",
    "version": 3
   },
   "file_extension": ".py",
   "mimetype": "text/x-python",
   "name": "python",
   "nbconvert_exporter": "python",
   "pygments_lexer": "ipython3",
   "version": "3.7.6"
  }
 },
 "nbformat": 4,
 "nbformat_minor": 5
}

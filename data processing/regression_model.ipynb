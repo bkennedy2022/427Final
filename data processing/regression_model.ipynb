{
 "cells": [
  {
   "cell_type": "code",
   "execution_count": 1,
   "metadata": {},
   "outputs": [],
   "source": [
    "from pyspark.sql import SparkSession\n",
    "from pyspark.sql.functions import col, when, avg, coalesce, to_date\n",
    "\n",
    "spark = SparkSession \\\n",
    "        .builder \\\n",
    "        .config(\"spark.jars\", \"/path/to/hadoop-aws-2.7.5.jar\")\\\n",
    "        .getOrCreate()"
   ]
  },
  {
   "cell_type": "code",
   "execution_count": 2,
   "metadata": {},
   "outputs": [],
   "source": [
    "df = spark.read.options(header=True).csv('United_States_COVID-19_Cases_and_Deaths_by_State_over_Time.csv')"
   ]
  },
  {
   "cell_type": "code",
   "execution_count": 3,
   "metadata": {},
   "outputs": [
    {
     "name": "stdout",
     "output_type": "stream",
     "text": [
      "+---------------+-----+---------+----------+----------+--------+---------+---------+----------+----------+---------+----------+--------------------+-------------+--------------+\n",
      "|submission_date|state|tot_cases|conf_cases|prob_cases|new_case|pnew_case|tot_death|conf_death|prob_death|new_death|pnew_death|          created_at|consent_cases|consent_deaths|\n",
      "+---------------+-----+---------+----------+----------+--------+---------+---------+----------+----------+---------+----------+--------------------+-------------+--------------+\n",
      "|     01/01/2021|   FL|  1300528|      null|      null|       0|     6063|    21673|      null|      null|        0|         7|01/02/2021 02:50:...|    Not agree|     Not agree|\n",
      "|     04/30/2020|   IA|     7145|      null|      null|     302|        0|      162|      null|      null|       14|         0|05/01/2020 09:00:...|    Not agree|     Not agree|\n",
      "|     02/26/2020|   UT|        0|      null|      null|       0|     null|        0|      null|      null|        0|      null|03/26/2020 04:22:...|        Agree|         Agree|\n",
      "|     03/05/2020|   GA|        2|      null|      null|      -5|     null|        0|      null|      null|        0|      null|03/26/2020 04:22:...|        Agree|         Agree|\n",
      "|     05/04/2020|   WV|     1224|      1224|         0|      29|        0|       50|      null|      null|        0|         0|05/05/2020 05:25:...|        Agree|     Not agree|\n",
      "|     12/02/2020|   NY|   346492|      null|      null|    5775|        0|    10117|      null|      null|       56|         0|12/03/2020 03:21:...|    Not agree|     Not agree|\n",
      "|     05/05/2020|   GA|    28196|     28182|        14|     602|        1|     1258|      1258|         0|       47|         0|05/06/2020 12:23:...|        Agree|         Agree|\n",
      "|     08/23/2020|   TN|   143937|    141000|      2937|    1854|       38|     1567|      1527|        40|        4|         0|08/24/2020 01:54:...|        Agree|         Agree|\n",
      "|     04/13/2021|   SD|   120154|      null|      null|     262|       68|     1947|      1586|       361|        0|         0|04/14/2021 02:34:...|          N/A|         Agree|\n",
      "|     05/16/2020|   AS|        0|      null|      null|       0|        0|        0|      null|      null|        0|         0|05/17/2020 03:27:...|         null|          null|\n",
      "|     09/08/2020|   PW|        0|      null|      null|       0|        0|        0|      null|      null|        0|         0|09/09/2020 01:47:...|         null|          null|\n",
      "|     08/06/2020|   TX|   467485|      null|      null|    7598|        0|    11177|      null|      null|      229|         0|08/07/2020 12:00:...|    Not agree|     Not agree|\n",
      "|     03/24/2021|   HI|    28045|      null|      null|      55|        0|      454|      null|      null|        3|         0|03/25/2021 02:25:...|    Not agree|     Not agree|\n",
      "|     04/10/2021|  NYC|   886383|    733886|    152497|    2801|      781|    31801|     26721|      5080|       60|         6|04/11/2021 01:50:...|        Agree|         Agree|\n",
      "|     05/30/2020|   AK|      435|      null|      null|       3|        0|       12|      null|      null|        1|         0|05/30/2020 12:00:...|          N/A|           N/A|\n",
      "|     06/07/2020|   PW|        0|      null|      null|       0|        0|        0|      null|      null|        0|         0|06/08/2020 02:55:...|         null|          null|\n",
      "|     01/09/2021|   AR|   251746|      null|      null|    2886|      735|     4010|      null|      null|       44|        10|01/10/2021 04:10:...|    Not agree|     Not agree|\n",
      "|     03/15/2020|   MA|      164|      null|      null|      55|     null|        0|      null|      null|        0|      null|03/26/2020 04:22:...|        Agree|         Agree|\n",
      "|     07/14/2020|   SD|     7572|      null|      null|      48|        0|      109|       108|         1|        0|         0|07/15/2020 03:05:...|          N/A|         Agree|\n",
      "|     12/18/2020|   IA|   264758|      null|      null|    2200|      609|     3451|      null|      null|        0|         0|12/19/2020 02:42:...|    Not agree|     Not agree|\n",
      "+---------------+-----+---------+----------+----------+--------+---------+---------+----------+----------+---------+----------+--------------------+-------------+--------------+\n",
      "only showing top 20 rows\n",
      "\n"
     ]
    },
    {
     "data": {
      "text/plain": [
       "27840"
      ]
     },
     "execution_count": 3,
     "metadata": {},
     "output_type": "execute_result"
    }
   ],
   "source": [
    "df.show()\n",
    "df.count()"
   ]
  },
  {
   "cell_type": "code",
   "execution_count": 7,
   "metadata": {},
   "outputs": [
    {
     "name": "stdout",
     "output_type": "stream",
     "text": [
      "27840\n"
     ]
    }
   ],
   "source": [
    "cleaned = df.filter((col('submission_date') != '') & (col('state') != '') & (col('tot_cases') != ''))\n",
    "print(cleaned.count())"
   ]
  },
  {
   "cell_type": "code",
   "execution_count": 9,
   "metadata": {},
   "outputs": [
    {
     "name": "stdout",
     "output_type": "stream",
     "text": [
      "+---------------+---------+\n",
      "|submission_date|tot_cases|\n",
      "+---------------+---------+\n",
      "|     01/01/2021|  1300528|\n",
      "|     04/30/2020|     7145|\n",
      "|     02/26/2020|        0|\n",
      "|     03/05/2020|        2|\n",
      "|     05/04/2020|     1224|\n",
      "|     12/02/2020|   346492|\n",
      "|     05/05/2020|    28196|\n",
      "|     08/23/2020|   143937|\n",
      "|     04/13/2021|   120154|\n",
      "|     05/16/2020|        0|\n",
      "|     09/08/2020|        0|\n",
      "|     08/06/2020|   467485|\n",
      "|     03/24/2021|    28045|\n",
      "|     04/10/2021|   886383|\n",
      "|     05/30/2020|      435|\n",
      "|     06/07/2020|        0|\n",
      "|     01/09/2021|   251746|\n",
      "|     03/15/2020|      164|\n",
      "|     07/14/2020|     7572|\n",
      "|     12/18/2020|   264758|\n",
      "+---------------+---------+\n",
      "only showing top 20 rows\n",
      "\n",
      "root\n",
      " |-- submission_date: string (nullable = true)\n",
      " |-- tot_cases: integer (nullable = true)\n",
      "\n"
     ]
    }
   ],
   "source": [
    "model_data = cleaned.select(col('submission_date'), col('tot_cases'))\n",
    "model_data = model_data.withColumn('tot_cases', col('tot_cases').cast('int'))\n",
    "# yyyy-mm-dd\n",
    "# model_data = model_data.withColumn('submission_date', to_date($\"submission_date\", \"MM/dd/yyyy\"))\n",
    "model_data.show()\n",
    "model_data.printSchema()"
   ]
  },
  {
   "cell_type": "code",
   "execution_count": 10,
   "metadata": {},
   "outputs": [
    {
     "name": "stdout",
     "output_type": "stream",
     "text": [
      "+---------------+--------------+\n",
      "|submission_date|sum(tot_cases)|\n",
      "+---------------+--------------+\n",
      "|     03/22/2020|         35820|\n",
      "|     05/11/2020|       1344943|\n",
      "|     02/28/2020|           146|\n",
      "|     04/12/2020|        558104|\n",
      "|     12/20/2020|      17918961|\n",
      "|     11/28/2020|      13362262|\n",
      "|     04/27/2021|      31977210|\n",
      "|     02/11/2020|            83|\n",
      "|     04/01/2020|        217725|\n",
      "|     12/23/2020|      18541298|\n",
      "|     07/03/2020|       2814785|\n",
      "|     08/11/2020|       5153145|\n",
      "|     11/17/2020|      11476071|\n",
      "|     03/08/2021|      28952087|\n",
      "|     03/13/2021|      29242445|\n",
      "|     06/19/2020|       2228981|\n",
      "|     05/18/2020|       1508295|\n",
      "|     08/13/2020|       5263668|\n",
      "|     05/16/2020|       1470302|\n",
      "|     06/01/2020|       1808328|\n",
      "+---------------+--------------+\n",
      "only showing top 20 rows\n",
      "\n"
     ]
    },
    {
     "data": {
      "text/plain": [
       "464"
      ]
     },
     "execution_count": 10,
     "metadata": {},
     "output_type": "execute_result"
    }
   ],
   "source": [
    "model_data = model_data.groupBy(col('submission_date')).sum('tot_cases')\n",
    "model_data.show()\n",
    "model_data.count()"
   ]
  },
  {
   "cell_type": "code",
   "execution_count": null,
   "metadata": {},
   "outputs": [],
   "source": [
    "# model\n",
    "\n"
   ]
  },
  {
   "cell_type": "code",
   "execution_count": null,
   "metadata": {},
   "outputs": [],
   "source": [
    "spark.stop()"
   ]
  }
 ],
 "metadata": {
  "kernelspec": {
   "display_name": "Python 3",
   "language": "python",
   "name": "python3"
  },
  "language_info": {
   "codemirror_mode": {
    "name": "ipython",
    "version": 3
   },
   "file_extension": ".py",
   "mimetype": "text/x-python",
   "name": "python",
   "nbconvert_exporter": "python",
   "pygments_lexer": "ipython3",
   "version": "3.7.6"
  }
 },
 "nbformat": 4,
 "nbformat_minor": 4
}

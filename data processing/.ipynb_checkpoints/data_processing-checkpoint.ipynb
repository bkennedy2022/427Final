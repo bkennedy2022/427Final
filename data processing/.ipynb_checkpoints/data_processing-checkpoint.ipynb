{
 "cells": [
  {
   "cell_type": "code",
   "execution_count": 157,
   "metadata": {},
   "outputs": [],
   "source": [
    "from pyspark.sql import SparkSession\n",
    "from pyspark.sql.functions import col, when, coalesce, avg\n",
    "spark = SparkSession.builder.getOrCreate()"
   ]
  },
  {
   "cell_type": "code",
   "execution_count": 139,
   "metadata": {},
   "outputs": [
    {
     "name": "stdout",
     "output_type": "stream",
     "text": [
      "root\n",
      " |-- Overall rank: string (nullable = true)\n",
      " |-- Country or region: string (nullable = true)\n",
      " |-- Score: string (nullable = true)\n",
      " |-- GDP per capita: string (nullable = true)\n",
      " |-- Social support: string (nullable = true)\n",
      " |-- Healthy life expectancy: string (nullable = true)\n",
      " |-- Freedom to make life choices: string (nullable = true)\n",
      " |-- Generosity: string (nullable = true)\n",
      " |-- Perceptions of corruption: string (nullable = true)\n",
      "\n",
      "root\n",
      " |-- Overall rank: string (nullable = true)\n",
      " |-- Country or region: string (nullable = true)\n",
      " |-- Score: string (nullable = true)\n",
      " |-- GDP per capita: string (nullable = true)\n",
      " |-- Social support: string (nullable = true)\n",
      " |-- Healthy life expectancy: string (nullable = true)\n",
      " |-- Freedom to make life choices: string (nullable = true)\n",
      " |-- Generosity: string (nullable = true)\n",
      " |-- Perceptions of corruption: string (nullable = true)\n",
      "\n",
      "+------------+--------------------+-----+--------------+--------------+-----------------------+----------------------------+----------+-------------------------+\n",
      "|Overall rank|   Country or region|Score|GDP per capita|Social support|Healthy life expectancy|Freedom to make life choices|Generosity|Perceptions of corruption|\n",
      "+------------+--------------------+-----+--------------+--------------+-----------------------+----------------------------+----------+-------------------------+\n",
      "|           1|             Finland|7.632|         1.305|         1.592|                  0.874|                       0.681|     0.202|                    0.393|\n",
      "|           2|              Norway|7.594|         1.456|         1.582|                  0.861|                       0.686|     0.286|                    0.340|\n",
      "|           3|             Denmark|7.555|         1.351|         1.590|                  0.868|                       0.683|     0.284|                    0.408|\n",
      "|           4|             Iceland|7.495|         1.343|         1.644|                  0.914|                       0.677|     0.353|                    0.138|\n",
      "|           5|         Switzerland|7.487|         1.420|         1.549|                  0.927|                       0.660|     0.256|                    0.357|\n",
      "|           6|         Netherlands|7.441|         1.361|         1.488|                  0.878|                       0.638|     0.333|                    0.295|\n",
      "|           7|              Canada|7.328|         1.330|         1.532|                  0.896|                       0.653|     0.321|                    0.291|\n",
      "|           8|         New Zealand|7.324|         1.268|         1.601|                  0.876|                       0.669|     0.365|                    0.389|\n",
      "|           9|              Sweden|7.314|         1.355|         1.501|                  0.913|                       0.659|     0.285|                    0.383|\n",
      "|          10|           Australia|7.272|         1.340|         1.573|                  0.910|                       0.647|     0.361|                    0.302|\n",
      "|          11|      United Kingdom|7.190|         1.244|         1.433|                  0.888|                       0.464|     0.262|                    0.082|\n",
      "|          12|             Austria|7.139|         1.341|         1.504|                  0.891|                       0.617|     0.242|                    0.224|\n",
      "|          13|          Costa Rica|7.072|         1.010|         1.459|                  0.817|                       0.632|     0.143|                    0.101|\n",
      "|          14|             Ireland|6.977|         1.448|         1.583|                  0.876|                       0.614|     0.307|                    0.306|\n",
      "|          15|             Germany|6.965|         1.340|         1.474|                  0.861|                       0.586|     0.273|                    0.280|\n",
      "|          16|             Belgium|6.927|         1.324|         1.483|                  0.894|                       0.583|     0.188|                    0.240|\n",
      "|          17|          Luxembourg|6.910|         1.576|         1.520|                  0.896|                       0.632|     0.196|                    0.321|\n",
      "|          18|       United States|6.886|         1.398|         1.471|                  0.819|                       0.547|     0.291|                    0.133|\n",
      "|          19|              Israel|6.814|         1.301|         1.559|                  0.883|                       0.533|     0.354|                    0.272|\n",
      "|          20|United Arab Emirates|6.774|         2.096|         0.776|                  0.670|                       0.284|     0.186|                      N/A|\n",
      "+------------+--------------------+-----+--------------+--------------+-----------------------+----------------------------+----------+-------------------------+\n",
      "only showing top 20 rows\n",
      "\n"
     ]
    }
   ],
   "source": [
    "########\n",
    "# 2018 data\n",
    "# import data\n",
    "df1 = spark.read.options(header='true').csv(\"2018.csv\")\n",
    "df1.printSchema()\n",
    "# df.show(2)\n",
    "\n",
    "########\n",
    "# 2019 data\n",
    "# import data\n",
    "df2 = spark.read.options(header='true').csv(\"2019.csv\")\n",
    "df2.printSchema()\n",
    "# df.show(2)\n",
    "\n",
    "# join the tables\n",
    "df = df1.union(df2)\n",
    "df.show()"
   ]
  },
  {
   "cell_type": "code",
   "execution_count": 146,
   "metadata": {},
   "outputs": [],
   "source": [
    "old_column_names = [\"Country or region\", \"Score\", \"GDP per capita\", \"Social support\" \\\n",
    "               ,\"Healthy life expectancy\", \"Freedom to make life choices\", \"Generosity\", \"Perceptions of corruption\"]\n",
    "\n",
    "new_column_names = [\"country\", \"score\", \"gdp_per_capita\", \"social_support\", \"health\", \"freedom\", \"generosity\", \"corruption\"]"
   ]
  },
  {
   "cell_type": "code",
   "execution_count": 136,
   "metadata": {},
   "outputs": [
    {
     "data": {
      "text/plain": [
       "DataFrame[Overall rank: string, Country or region: string, Score: string, GDP per capita: string, Social support: string, Healthy life expectancy: string, Freedom to make life choices: string, Generosity: string, Perceptions of corruption: string]"
      ]
     },
     "execution_count": 136,
     "metadata": {},
     "output_type": "execute_result"
    }
   ],
   "source": [
    "# clean data\n",
    "\n",
    "# # test blank_as_null -- rewrite a value\n",
    "# df1 = df1.withColumn(\"Country or region\", when(col(\"Country or region\") == \"Finland\", \"\").otherwise(col(\"Country or region\")))\n",
    "# df1.show(2)\n",
    "\n",
    "# change any empty country strings to null\n",
    "# Source: https://stackoverflow.com/questions/33287886/replace-empty-strings-with-none-null-values-in-dataframe\n",
    "def blank_as_null(x):\n",
    "    return when(col(x) != \"\", col(x)).otherwise(None)\n",
    "\n",
    "for column in old_column_names:\n",
    "    df = df.withColumn(column, blank_as_null(column))\n",
    "\n",
    "# df1.show(2)\n",
    "\n",
    "# remove rows where country is null\n",
    "df.na.drop(subset=[\"Country or region\"])\n",
    "\n",
    "# df1.show(2)"
   ]
  },
  {
   "cell_type": "code",
   "execution_count": 151,
   "metadata": {},
   "outputs": [
    {
     "name": "stdout",
     "output_type": "stream",
     "text": [
      "+------------+--------------------+-----+--------------+--------------+------+-------+----------+----------+\n",
      "|Overall rank|             country|score|gdp_per_capita|social_support|health|freedom|generosity|corruption|\n",
      "+------------+--------------------+-----+--------------+--------------+------+-------+----------+----------+\n",
      "|           1|             Finland|7.632|         1.305|         1.592| 0.874|  0.681|     0.202|     0.393|\n",
      "|           2|              Norway|7.594|         1.456|         1.582| 0.861|  0.686|     0.286|     0.340|\n",
      "|           3|             Denmark|7.555|         1.351|         1.590| 0.868|  0.683|     0.284|     0.408|\n",
      "|           4|             Iceland|7.495|         1.343|         1.644| 0.914|  0.677|     0.353|     0.138|\n",
      "|           5|         Switzerland|7.487|         1.420|         1.549| 0.927|  0.660|     0.256|     0.357|\n",
      "|           6|         Netherlands|7.441|         1.361|         1.488| 0.878|  0.638|     0.333|     0.295|\n",
      "|           7|              Canada|7.328|         1.330|         1.532| 0.896|  0.653|     0.321|     0.291|\n",
      "|           8|         New Zealand|7.324|         1.268|         1.601| 0.876|  0.669|     0.365|     0.389|\n",
      "|           9|              Sweden|7.314|         1.355|         1.501| 0.913|  0.659|     0.285|     0.383|\n",
      "|          10|           Australia|7.272|         1.340|         1.573| 0.910|  0.647|     0.361|     0.302|\n",
      "|          11|      United Kingdom|7.190|         1.244|         1.433| 0.888|  0.464|     0.262|     0.082|\n",
      "|          12|             Austria|7.139|         1.341|         1.504| 0.891|  0.617|     0.242|     0.224|\n",
      "|          13|          Costa Rica|7.072|         1.010|         1.459| 0.817|  0.632|     0.143|     0.101|\n",
      "|          14|             Ireland|6.977|         1.448|         1.583| 0.876|  0.614|     0.307|     0.306|\n",
      "|          15|             Germany|6.965|         1.340|         1.474| 0.861|  0.586|     0.273|     0.280|\n",
      "|          16|             Belgium|6.927|         1.324|         1.483| 0.894|  0.583|     0.188|     0.240|\n",
      "|          17|          Luxembourg|6.910|         1.576|         1.520| 0.896|  0.632|     0.196|     0.321|\n",
      "|          18|       United States|6.886|         1.398|         1.471| 0.819|  0.547|     0.291|     0.133|\n",
      "|          19|              Israel|6.814|         1.301|         1.559| 0.883|  0.533|     0.354|     0.272|\n",
      "|          20|United Arab Emirates|6.774|         2.096|         0.776| 0.670|  0.284|     0.186|       N/A|\n",
      "+------------+--------------------+-----+--------------+--------------+------+-------+----------+----------+\n",
      "only showing top 20 rows\n",
      "\n"
     ]
    }
   ],
   "source": [
    "# rename columns\n",
    "for column in range(8):\n",
    "    df = df.withColumnRenamed(old_column_names[column], new_column_names[column])\n",
    "        \n",
    "df.show()"
   ]
  },
  {
   "cell_type": "code",
   "execution_count": 158,
   "metadata": {},
   "outputs": [
    {
     "name": "stdout",
     "output_type": "stream",
     "text": [
      "+-----------+------------------+-------------------+------------------+-------------------+-------------------+-------------------+--------------------+\n",
      "|    country|         avg_score| avg_gdp_per_capita|avg_social_support|         avg_health|        avg_freedom|     avg_generosity|      avg_corruption|\n",
      "+-----------+------------------+-------------------+------------------+-------------------+-------------------+-------------------+--------------------+\n",
      "|       Chad|            4.3255|              0.354|            0.8365|             0.1225|             0.1815|             0.1895|               0.069|\n",
      "|     Russia| 5.728999999999999|              1.167|            1.4655|             0.6625|0.36650000000000005|0.07350000000000001|               0.028|\n",
      "|   Paraguay|             5.712|              0.845|            1.4985|              0.696| 0.5275000000000001|              0.173|               0.077|\n",
      "|      Yemen|3.3674999999999997|             0.3645|1.1179999999999999|              0.403|             0.1935|             0.0955| 0.07050000000000001|\n",
      "|    Senegal| 4.656000000000001|             0.4395|            1.1255|              0.502|              0.349|0.14550000000000002|               0.077|\n",
      "|     Sweden|            7.3285|              1.371|             1.494|              0.961|             0.6165|              0.276|               0.378|\n",
      "|Philippines| 5.577500000000001|              0.791|            1.3025|              0.585|             0.6005|             0.1185|               0.106|\n",
      "|  Singapore|            6.3025|             1.5505|             1.457|             1.0745|             0.5935|              0.266|               0.455|\n",
      "|   Malaysia| 5.830500000000001|              1.191|1.2145000000000001| 0.7484999999999999|              0.432|             0.2855|0.041499999999999995|\n",
      "|     Turkey|             5.428|             1.1655|              1.37| 0.7470000000000001|             0.2595|             0.0945|              0.1075|\n",
      "|     Malawi|            3.4985|             0.1885|            0.5505|0.40049999999999997|              0.487|              0.214| 0.08449999999999999|\n",
      "|       Iraq|            4.4465|             1.0265|            0.9755| 0.5549999999999999|0.27249999999999996|              0.148|               0.092|\n",
      "|    Germany|             6.975|             1.3565|             1.464| 0.9239999999999999|             0.5405|              0.267|              0.2725|\n",
      "|    Comoros|             3.973|              0.274|             0.757|              0.505|              0.142|              0.275|               0.078|\n",
      "|   Cambodia|            4.5665|             0.5615|             1.105|              0.547|             0.6525|              0.244|              0.0635|\n",
      "|Afghanistan|            3.4175|0.34099999999999997|             0.527|              0.308|             0.0425|             0.1745|              0.0305|\n",
      "|     Jordan|            5.0335| 0.8294999999999999|             1.245|               0.73|             0.4255|               0.12|               0.132|\n",
      "|Ivory Coast|            4.8075| 0.5549999999999999|0.8400000000000001|              0.156|             0.4095|               0.15|              0.0965|\n",
      "|     Rwanda|             3.371|0.34550000000000003|            0.8035|              0.507|             0.5955|0.20850000000000002|              0.4275|\n",
      "|      Sudan|             4.139|              0.605|              1.24|              0.312|              0.016|              0.134|               0.082|\n",
      "+-----------+------------------+-------------------+------------------+-------------------+-------------------+-------------------+--------------------+\n",
      "only showing top 20 rows\n",
      "\n"
     ]
    }
   ],
   "source": [
    "###############\n",
    "# \n",
    "# combine and average\n",
    "\n",
    "grouped_df = df.groupBy(col('country')).agg(avg('score').alias('avg_score'),\\\n",
    "    avg('gdp_per_capita').alias('avg_gdp_per_capita'), avg('social_support').alias('avg_social_support'),\\\n",
    "    avg('health').alias('avg_health'),\\\n",
    "    avg('freedom').alias('avg_freedom'), avg('generosity').alias('avg_generosity'), avg('corruption').alias('avg_corruption'))\n",
    "\n",
    "grouped_df.show()"
   ]
  },
  {
   "cell_type": "code",
   "execution_count": 161,
   "metadata": {},
   "outputs": [],
   "source": [
    "# split and store in csv's\n",
    "for col in grouped_df.columns:\n",
    "    if col != \"country\":\n",
    "        df = grouped_df.select(\"country\", col)\n",
    "        file_path = 'csv_files/pre_' + col + '.csv'\n",
    "        economy.toPandas().to_csv(file_path)"
   ]
  },
  {
   "cell_type": "code",
   "execution_count": null,
   "metadata": {},
   "outputs": [],
   "source": [
    "# stop session\n",
    "spark.stop()"
   ]
  }
 ],
 "metadata": {
  "kernelspec": {
   "display_name": "Python 3",
   "language": "python",
   "name": "python3"
  },
  "language_info": {
   "codemirror_mode": {
    "name": "ipython",
    "version": 3
   },
   "file_extension": ".py",
   "mimetype": "text/x-python",
   "name": "python",
   "nbconvert_exporter": "python",
   "pygments_lexer": "ipython3",
   "version": "3.7.6"
  }
 },
 "nbformat": 4,
 "nbformat_minor": 4
}

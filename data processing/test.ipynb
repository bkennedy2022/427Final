{
 "cells": [
  {
   "cell_type": "code",
   "execution_count": 34,
   "id": "e30feefb",
   "metadata": {},
   "outputs": [
    {
     "data": {
      "application/vnd.jupyter.widget-view+json": {
       "model_id": "145e57afbdfe4b40a4b601b1f3c2752e",
       "version_major": 2,
       "version_minor": 0
      },
      "text/plain": [
       "VBox()"
      ]
     },
     "metadata": {},
     "output_type": "display_data"
    },
    {
     "data": {
      "application/vnd.jupyter.widget-view+json": {
       "model_id": "",
       "version_major": 2,
       "version_minor": 0
      },
      "text/plain": [
       "FloatProgress(value=0.0, bar_style='info', description='Progress:', layout=Layout(height='25px', width='50%'),…"
      ]
     },
     "metadata": {},
     "output_type": "display_data"
    }
   ],
   "source": [
    "from pyspark.sql import SparkSession\n",
    "from pyspark.sql.functions import col, when, avg, coalesce\n",
    "\n",
    "spark = SparkSession.builder.getOrCreate()"
   ]
  },
  {
   "cell_type": "code",
   "execution_count": 2,
   "id": "8ab09ca3",
   "metadata": {},
   "outputs": [
    {
     "data": {
      "application/vnd.jupyter.widget-view+json": {
       "model_id": "22e23fbd6acb43328e4617a889386735",
       "version_major": 2,
       "version_minor": 0
      },
      "text/plain": [
       "VBox()"
      ]
     },
     "metadata": {},
     "output_type": "display_data"
    },
    {
     "data": {
      "application/vnd.jupyter.widget-view+json": {
       "model_id": "",
       "version_major": 2,
       "version_minor": 0
      },
      "text/plain": [
       "FloatProgress(value=0.0, bar_style='info', description='Progress:', layout=Layout(height='25px', width='50%'),…"
      ]
     },
     "metadata": {},
     "output_type": "display_data"
    }
   ],
   "source": [
    "df = spark.read.options(header=True).csv('s3://covid-data123/COVID-19_Case_Surveillance_Public_Use_Data_with_Geography.csv')"
   ]
  },
  {
   "cell_type": "code",
   "execution_count": 3,
   "id": "2fbd49cd",
   "metadata": {},
   "outputs": [
    {
     "data": {
      "application/vnd.jupyter.widget-view+json": {
       "model_id": "5df2e8dca54e44d78b990dbe54363a9d",
       "version_major": 2,
       "version_minor": 0
      },
      "text/plain": [
       "VBox()"
      ]
     },
     "metadata": {},
     "output_type": "display_data"
    },
    {
     "data": {
      "application/vnd.jupyter.widget-view+json": {
       "model_id": "",
       "version_major": 2,
       "version_minor": 0
      },
      "text/plain": [
       "FloatProgress(value=0.0, bar_style='info', description='Progress:', layout=Layout(height='25px', width='50%'),…"
      ]
     },
     "metadata": {},
     "output_type": "display_data"
    },
    {
     "name": "stdout",
     "output_type": "stream",
     "text": [
      "22507139"
     ]
    }
   ],
   "source": [
    "df.count()"
   ]
  },
  {
   "cell_type": "code",
   "execution_count": 13,
   "id": "ff56b53a",
   "metadata": {},
   "outputs": [
    {
     "data": {
      "application/vnd.jupyter.widget-view+json": {
       "model_id": "ec5a44389682499d9bf124f2cbf8ce02",
       "version_major": 2,
       "version_minor": 0
      },
      "text/plain": [
       "VBox()"
      ]
     },
     "metadata": {},
     "output_type": "display_data"
    },
    {
     "data": {
      "application/vnd.jupyter.widget-view+json": {
       "model_id": "",
       "version_major": 2,
       "version_minor": 0
      },
      "text/plain": [
       "FloatProgress(value=0.0, bar_style='info', description='Progress:', layout=Layout(height='25px', width='50%'),…"
      ]
     },
     "metadata": {},
     "output_type": "display_data"
    },
    {
     "name": "stdout",
     "output_type": "stream",
     "text": [
      "20891650"
     ]
    }
   ],
   "source": [
    "df = df.filter((col('res_state') != 'NA') & (col('res_county') != 'NA'))\n",
    "# df.show(3)"
   ]
  },
  {
   "cell_type": "code",
   "execution_count": 14,
   "id": "cfa41555",
   "metadata": {},
   "outputs": [
    {
     "data": {
      "application/vnd.jupyter.widget-view+json": {
       "model_id": "874d872c323f4f949d3e383e52c521e4",
       "version_major": 2,
       "version_minor": 0
      },
      "text/plain": [
       "VBox()"
      ]
     },
     "metadata": {},
     "output_type": "display_data"
    },
    {
     "data": {
      "application/vnd.jupyter.widget-view+json": {
       "model_id": "",
       "version_major": 2,
       "version_minor": 0
      },
      "text/plain": [
       "FloatProgress(value=0.0, bar_style='info', description='Progress:', layout=Layout(height='25px', width='50%'),…"
      ]
     },
     "metadata": {},
     "output_type": "display_data"
    },
    {
     "name": "stdout",
     "output_type": "stream",
     "text": [
      "+----------+---------+---------------+----------+----------------+---------+---+----+---------+-------------------------------+-------------------+-------+-----------+--------------------+--------------+-------+-------+--------+------------------------+\n",
      "|case_month|res_state|state_fips_code|res_county|county_fips_code|age_group|sex|race|ethnicity|case_positive_specimen_interval|case_onset_interval|process|exposure_yn|      current_status|symptom_status|hosp_yn| icu_yn|death_yn|underlying_conditions_yn|\n",
      "+----------+---------+---------------+----------+----------------+---------+---+----+---------+-------------------------------+-------------------+-------+-----------+--------------------+--------------+-------+-------+--------+------------------------+\n",
      "|   2020-07|       SC|             45| ABBEVILLE|           45001|       NA| NA|  NA|       NA|                           null|                  0|Missing|    Missing|Laboratory-confir...|   Symptomatic|     No|Missing|      NA|                    null|\n",
      "|   2020-07|       SC|             45| ABBEVILLE|           45001|       NA| NA|  NA|       NA|                           null|               null|Missing|    Missing|Laboratory-confir...|       Missing|    Yes|Missing|      NA|                    null|\n",
      "|   2020-07|       SC|             45| ABBEVILLE|           45001|       NA| NA|  NA|       NA|                           null|                  0|Missing|    Missing|       Probable Case|   Symptomatic|     No|Missing|      NA|                    null|\n",
      "+----------+---------+---------------+----------+----------------+---------+---+----+---------+-------------------------------+-------------------+-------+-----------+--------------------+--------------+-------+-------+--------+------------------------+\n",
      "only showing top 3 rows"
     ]
    }
   ],
   "source": [
    "df.show(3)"
   ]
  },
  {
   "cell_type": "code",
   "execution_count": 17,
   "id": "1634a8c7",
   "metadata": {},
   "outputs": [
    {
     "data": {
      "application/vnd.jupyter.widget-view+json": {
       "model_id": "2f6a55b812c24ff2996863f5ec4674b6",
       "version_major": 2,
       "version_minor": 0
      },
      "text/plain": [
       "VBox()"
      ]
     },
     "metadata": {},
     "output_type": "display_data"
    },
    {
     "data": {
      "application/vnd.jupyter.widget-view+json": {
       "model_id": "",
       "version_major": 2,
       "version_minor": 0
      },
      "text/plain": [
       "FloatProgress(value=0.0, bar_style='info', description='Progress:', layout=Layout(height='25px', width='50%'),…"
      ]
     },
     "metadata": {},
     "output_type": "display_data"
    },
    {
     "name": "stdout",
     "output_type": "stream",
     "text": [
      "16602569"
     ]
    }
   ],
   "source": [
    "filtered = df.filter((col('age_group') != 'NA') & (col('race') != 'NA') & (col('sex') != 'NA') & (col('ethnicity') != 'NA'))\n",
    "filtered.count()"
   ]
  },
  {
   "cell_type": "code",
   "execution_count": 20,
   "id": "e4774066",
   "metadata": {},
   "outputs": [
    {
     "data": {
      "application/vnd.jupyter.widget-view+json": {
       "model_id": "9b1f7a88e0e54d59ad9781ad17b0dd5d",
       "version_major": 2,
       "version_minor": 0
      },
      "text/plain": [
       "VBox()"
      ]
     },
     "metadata": {},
     "output_type": "display_data"
    },
    {
     "data": {
      "application/vnd.jupyter.widget-view+json": {
       "model_id": "",
       "version_major": 2,
       "version_minor": 0
      },
      "text/plain": [
       "FloatProgress(value=0.0, bar_style='info', description='Progress:', layout=Layout(height='25px', width='50%'),…"
      ]
     },
     "metadata": {},
     "output_type": "display_data"
    },
    {
     "name": "stdout",
     "output_type": "stream",
     "text": [
      "+----------+---------+---------------+----------+----------------+--------------+------+--------------------+---------------+-------------------------------+-------------------+-------+-----------+--------------------+--------------+-------+-------+--------+------------------------+\n",
      "|case_month|res_state|state_fips_code|res_county|county_fips_code|     age_group|   sex|                race|      ethnicity|case_positive_specimen_interval|case_onset_interval|process|exposure_yn|      current_status|symptom_status|hosp_yn| icu_yn|death_yn|underlying_conditions_yn|\n",
      "+----------+---------+---------------+----------+----------------+--------------+------+--------------------+---------------+-------------------------------+-------------------+-------+-----------+--------------------+--------------+-------+-------+--------+------------------------+\n",
      "|   2020-07|       AZ|             04|  MARICOPA|           04013|  0 - 17 years|Female|American Indian/A...|Hispanic/Latino|                           null|               null|Missing|    Missing|Laboratory-confir...|       Missing|Missing|Missing|      NA|                    null|\n",
      "|   2020-07|       AZ|             04|  MARICOPA|           04013|  0 - 17 years|Female|American Indian/A...|Hispanic/Latino|                           null|                  0|Missing|    Missing|Laboratory-confir...|   Symptomatic|Missing|Missing|      NA|                    null|\n",
      "|   2020-07|       AZ|             04|  MARICOPA|           04013|  0 - 17 years|Female|American Indian/A...|Hispanic/Latino|                           null|               null|Missing|    Missing|Laboratory-confir...|       Missing|Missing|Missing|      NA|                    null|\n",
      "|   2020-07|       AZ|             04|  MARICOPA|           04013|  0 - 17 years|Female|American Indian/A...|Hispanic/Latino|                           null|               null|Missing|    Missing|Laboratory-confir...|       Missing|Missing|Missing|      NA|                    null|\n",
      "|   2020-12|       AZ|             04|      PIMA|           04019|  0 - 17 years|Female|American Indian/A...|Hispanic/Latino|                           null|               null|Missing|    Missing|       Probable Case|       Missing|Missing|Missing|      NA|                    null|\n",
      "|   2020-12|       AZ|             04|      PIMA|           04019|  0 - 17 years|Female|American Indian/A...|Hispanic/Latino|                           null|                  0|Missing|    Missing|Laboratory-confir...|   Symptomatic|Missing|Missing|      NA|                    null|\n",
      "|   2020-12|       AZ|             04|      PIMA|           04019|  0 - 17 years|Female|American Indian/A...|Hispanic/Latino|                           null|               null|Missing|    Missing|Laboratory-confir...|       Missing|Missing|Missing|      NA|                    null|\n",
      "|   2020-12|       AZ|             04|      PIMA|           04019|  0 - 17 years|Female|American Indian/A...|Hispanic/Latino|                           null|               null|Missing|    Missing|Laboratory-confir...|       Missing|    Yes|Missing|      NA|                    null|\n",
      "|   2021-01|       NY|             36|     BRONX|           36005|18 to 49 years|Female|American Indian/A...|Hispanic/Latino|                              0|               null|Missing|    Missing|Laboratory-confir...|       Unknown|    Yes|    Yes|      NA|                     Yes|\n",
      "|   2021-02|       IL|             17|      COOK|           17031|18 to 49 years|Female|American Indian/A...|Hispanic/Latino|                           null|                  0|Missing|    Missing|Laboratory-confir...|       Missing|Missing|Missing| Missing|                    null|\n",
      "|   2021-02|       IL|             17|      COOK|           17031|18 to 49 years|Female|American Indian/A...|Hispanic/Latino|                           null|                  0|Missing|    Missing|Laboratory-confir...|       Missing|Missing|Missing| Missing|                    null|\n",
      "|   2021-02|       IL|             17|      COOK|           17031|18 to 49 years|Female|American Indian/A...|Hispanic/Latino|                           null|                  0|Missing|    Missing|Laboratory-confir...|       Missing|Missing|Missing| Missing|                    null|\n",
      "|   2021-02|       IL|             17|      COOK|           17031|18 to 49 years|Female|American Indian/A...|Hispanic/Latino|                           null|                  0|Missing|    Missing|Laboratory-confir...|       Missing|Missing|Missing| Missing|                    null|\n",
      "|   2021-02|       IL|             17|      COOK|           17031|18 to 49 years|Female|American Indian/A...|Hispanic/Latino|                           null|                  0|Missing|    Missing|Laboratory-confir...|       Missing|Missing|Missing| Missing|                    null|\n",
      "|   2021-02|       IL|             17|      COOK|           17031|18 to 49 years|Female|American Indian/A...|Hispanic/Latino|                           null|                  0|Missing|    Missing|Laboratory-confir...|       Missing|Missing|Missing| Missing|                    null|\n",
      "|   2021-02|       IL|             17|      COOK|           17031|18 to 49 years|Female|American Indian/A...|Hispanic/Latino|                           null|                  0|Missing|    Missing|Laboratory-confir...|       Missing|Missing|Missing| Missing|                    null|\n",
      "|   2021-02|       IL|             17|      COOK|           17031|18 to 49 years|Female|American Indian/A...|Hispanic/Latino|                           null|                  0|Missing|    Missing|Laboratory-confir...|       Missing|Missing|Missing| Missing|                    null|\n",
      "|   2021-02|       IL|             17|      COOK|           17031|18 to 49 years|Female|American Indian/A...|Hispanic/Latino|                           null|                  0|Missing|    Missing|Laboratory-confir...|       Missing|Missing|Missing| Missing|                    null|\n",
      "|   2021-02|       IL|             17|      COOK|           17031|18 to 49 years|Female|American Indian/A...|Hispanic/Latino|                           null|                  0|Missing|    Missing|Laboratory-confir...|       Missing|Missing|Missing| Missing|                    null|\n",
      "|   2021-02|       IL|             17|      COOK|           17031|18 to 49 years|Female|American Indian/A...|Hispanic/Latino|                           null|                  0|Missing|    Missing|Laboratory-confir...|       Missing|Missing|Missing| Missing|                    null|\n",
      "+----------+---------+---------------+----------+----------------+--------------+------+--------------------+---------------+-------------------------------+-------------------+-------+-----------+--------------------+--------------+-------+-------+--------+------------------------+\n",
      "only showing top 20 rows"
     ]
    }
   ],
   "source": [
    "cleaned = filtered.filter((col('age_group') != 'Missing') & (col('race') != 'Missing') & (col('sex') != 'Missing') & (col('ethnicity') != 'Missing'))\n",
    "cleaned = cleaned.filter((col('age_group') != 'Unknown') & (col('race') != 'Unknown') & (col('sex') != 'Unknown') & (col('ethnicity') != 'Unknown'))\n",
    "cleaned.show()"
   ]
  },
  {
   "cell_type": "code",
   "execution_count": 21,
   "id": "f19413e0",
   "metadata": {},
   "outputs": [
    {
     "data": {
      "application/vnd.jupyter.widget-view+json": {
       "model_id": "2dfd532ca7734b5580c1ce42769abf74",
       "version_major": 2,
       "version_minor": 0
      },
      "text/plain": [
       "VBox()"
      ]
     },
     "metadata": {},
     "output_type": "display_data"
    },
    {
     "data": {
      "application/vnd.jupyter.widget-view+json": {
       "model_id": "",
       "version_major": 2,
       "version_minor": 0
      },
      "text/plain": [
       "FloatProgress(value=0.0, bar_style='info', description='Progress:', layout=Layout(height='25px', width='50%'),…"
      ]
     },
     "metadata": {},
     "output_type": "display_data"
    },
    {
     "name": "stdout",
     "output_type": "stream",
     "text": [
      "9132637"
     ]
    }
   ],
   "source": [
    "cleaned.count()"
   ]
  },
  {
   "cell_type": "code",
   "execution_count": 22,
   "id": "99f265d8",
   "metadata": {},
   "outputs": [
    {
     "data": {
      "application/vnd.jupyter.widget-view+json": {
       "model_id": "584d8d241f0e45ae8165f0edf73c05df",
       "version_major": 2,
       "version_minor": 0
      },
      "text/plain": [
       "VBox()"
      ]
     },
     "metadata": {},
     "output_type": "display_data"
    },
    {
     "data": {
      "application/vnd.jupyter.widget-view+json": {
       "model_id": "",
       "version_major": 2,
       "version_minor": 0
      },
      "text/plain": [
       "FloatProgress(value=0.0, bar_style='info', description='Progress:', layout=Layout(height='25px', width='50%'),…"
      ]
     },
     "metadata": {},
     "output_type": "display_data"
    },
    {
     "name": "stdout",
     "output_type": "stream",
     "text": [
      "+---------+----------+--------------+------+--------------------+---------------+\n",
      "|res_state|res_county|     age_group|   sex|                race|      ethnicity|\n",
      "+---------+----------+--------------+------+--------------------+---------------+\n",
      "|       AZ|  MARICOPA|  0 - 17 years|Female|American Indian/A...|Hispanic/Latino|\n",
      "|       AZ|  MARICOPA|  0 - 17 years|Female|American Indian/A...|Hispanic/Latino|\n",
      "|       AZ|  MARICOPA|  0 - 17 years|Female|American Indian/A...|Hispanic/Latino|\n",
      "|       AZ|  MARICOPA|  0 - 17 years|Female|American Indian/A...|Hispanic/Latino|\n",
      "|       AZ|      PIMA|  0 - 17 years|Female|American Indian/A...|Hispanic/Latino|\n",
      "|       AZ|      PIMA|  0 - 17 years|Female|American Indian/A...|Hispanic/Latino|\n",
      "|       AZ|      PIMA|  0 - 17 years|Female|American Indian/A...|Hispanic/Latino|\n",
      "|       AZ|      PIMA|  0 - 17 years|Female|American Indian/A...|Hispanic/Latino|\n",
      "|       NY|     BRONX|18 to 49 years|Female|American Indian/A...|Hispanic/Latino|\n",
      "|       IL|      COOK|18 to 49 years|Female|American Indian/A...|Hispanic/Latino|\n",
      "|       IL|      COOK|18 to 49 years|Female|American Indian/A...|Hispanic/Latino|\n",
      "|       IL|      COOK|18 to 49 years|Female|American Indian/A...|Hispanic/Latino|\n",
      "|       IL|      COOK|18 to 49 years|Female|American Indian/A...|Hispanic/Latino|\n",
      "|       IL|      COOK|18 to 49 years|Female|American Indian/A...|Hispanic/Latino|\n",
      "|       IL|      COOK|18 to 49 years|Female|American Indian/A...|Hispanic/Latino|\n",
      "|       IL|      COOK|18 to 49 years|Female|American Indian/A...|Hispanic/Latino|\n",
      "|       IL|      COOK|18 to 49 years|Female|American Indian/A...|Hispanic/Latino|\n",
      "|       IL|      COOK|18 to 49 years|Female|American Indian/A...|Hispanic/Latino|\n",
      "|       IL|      COOK|18 to 49 years|Female|American Indian/A...|Hispanic/Latino|\n",
      "|       IL|      COOK|18 to 49 years|Female|American Indian/A...|Hispanic/Latino|\n",
      "+---------+----------+--------------+------+--------------------+---------------+\n",
      "only showing top 20 rows"
     ]
    }
   ],
   "source": [
    "df = cleaned.select(col('res_state'), col('res_county'), col('age_group'), col('sex'), col('race'), col('ethnicity'))\n",
    "df.show()"
   ]
  },
  {
   "cell_type": "code",
   "execution_count": 23,
   "id": "5f9afb27",
   "metadata": {},
   "outputs": [
    {
     "data": {
      "application/vnd.jupyter.widget-view+json": {
       "model_id": "efe267308ab343ce84e45bc681124721",
       "version_major": 2,
       "version_minor": 0
      },
      "text/plain": [
       "VBox()"
      ]
     },
     "metadata": {},
     "output_type": "display_data"
    },
    {
     "data": {
      "application/vnd.jupyter.widget-view+json": {
       "model_id": "",
       "version_major": 2,
       "version_minor": 0
      },
      "text/plain": [
       "FloatProgress(value=0.0, bar_style='info', description='Progress:', layout=Layout(height='25px', width='50%'),…"
      ]
     },
     "metadata": {},
     "output_type": "display_data"
    },
    {
     "name": "stdout",
     "output_type": "stream",
     "text": [
      "+--------------+-----+\n",
      "|    res_county|count|\n",
      "+--------------+-----+\n",
      "|       JOHNSON|54843|\n",
      "|         OSAGE| 2418|\n",
      "|      PONTOTOC| 3118|\n",
      "|     LA CROSSE| 8988|\n",
      "|      BEAUFORT| 9888|\n",
      "|        BRAZOS| 2362|\n",
      "|        WALKER| 4232|\n",
      "|     CLARENDON| 1219|\n",
      "|    ORANGEBURG| 5744|\n",
      "|        RACINE|15779|\n",
      "|    GEORGETOWN| 4237|\n",
      "|        PIERCE|12633|\n",
      "|       MCCLAIN| 2894|\n",
      "|        GIBSON| 4062|\n",
      "|ST. LOUIS CITY| 3117|\n",
      "|    BERNALILLO| 6496|\n",
      "|      MONTEREY| 3116|\n",
      "|         JONES| 2699|\n",
      "|      CANADIAN| 9167|\n",
      "|    GREENVILLE|38285|\n",
      "+--------------+-----+\n",
      "only showing top 20 rows"
     ]
    }
   ],
   "source": [
    "cases = df.groupBy(col('res_county')).count()\n",
    "cases.show()"
   ]
  },
  {
   "cell_type": "code",
   "execution_count": 24,
   "id": "693567b8",
   "metadata": {},
   "outputs": [
    {
     "data": {
      "application/vnd.jupyter.widget-view+json": {
       "model_id": "53de1ccd7ea04dd2af2aa2b68249a106",
       "version_major": 2,
       "version_minor": 0
      },
      "text/plain": [
       "VBox()"
      ]
     },
     "metadata": {},
     "output_type": "display_data"
    },
    {
     "data": {
      "application/vnd.jupyter.widget-view+json": {
       "model_id": "",
       "version_major": 2,
       "version_minor": 0
      },
      "text/plain": [
       "FloatProgress(value=0.0, bar_style='info', description='Progress:', layout=Layout(height='25px', width='50%'),…"
      ]
     },
     "metadata": {},
     "output_type": "display_data"
    },
    {
     "name": "stdout",
     "output_type": "stream",
     "text": [
      "989"
     ]
    }
   ],
   "source": [
    "cases.count()"
   ]
  },
  {
   "cell_type": "code",
   "execution_count": 26,
   "id": "36e47e9d",
   "metadata": {},
   "outputs": [
    {
     "data": {
      "application/vnd.jupyter.widget-view+json": {
       "model_id": "de41e5f2f9a84e1da10df9d460be1b46",
       "version_major": 2,
       "version_minor": 0
      },
      "text/plain": [
       "VBox()"
      ]
     },
     "metadata": {},
     "output_type": "display_data"
    },
    {
     "data": {
      "application/vnd.jupyter.widget-view+json": {
       "model_id": "",
       "version_major": 2,
       "version_minor": 0
      },
      "text/plain": [
       "FloatProgress(value=0.0, bar_style='info', description='Progress:', layout=Layout(height='25px', width='50%'),…"
      ]
     },
     "metadata": {},
     "output_type": "display_data"
    },
    {
     "name": "stdout",
     "output_type": "stream",
     "text": [
      "+---------+------+\n",
      "|res_state| count|\n",
      "+---------+------+\n",
      "|       MN|286652|\n",
      "|       MD| 27611|\n",
      "|       MO| 24493|\n",
      "|       IL|511228|\n",
      "|       MS| 10222|\n",
      "|       SD| 27605|\n",
      "|       AK| 12371|\n",
      "|       UT|285111|\n",
      "|       HI| 11454|\n",
      "|       CA|850593|\n",
      "|       CT| 60589|\n",
      "|       NC|436223|\n",
      "|       ME| 25650|\n",
      "|       NM| 19984|\n",
      "|       IA|132655|\n",
      "|       AR|141352|\n",
      "|       AZ|503947|\n",
      "|       LA|  1045|\n",
      "|       NJ|231757|\n",
      "|       WI|354345|\n",
      "+---------+------+\n",
      "only showing top 20 rows"
     ]
    }
   ],
   "source": [
    "states = df.groupBy(col('res_state')).count()\n",
    "states.show()"
   ]
  },
  {
   "cell_type": "code",
   "execution_count": 27,
   "id": "f7839b31",
   "metadata": {},
   "outputs": [
    {
     "data": {
      "application/vnd.jupyter.widget-view+json": {
       "model_id": "a874a1818e434105ac6eb313aa33f222",
       "version_major": 2,
       "version_minor": 0
      },
      "text/plain": [
       "VBox()"
      ]
     },
     "metadata": {},
     "output_type": "display_data"
    },
    {
     "data": {
      "application/vnd.jupyter.widget-view+json": {
       "model_id": "",
       "version_major": 2,
       "version_minor": 0
      },
      "text/plain": [
       "FloatProgress(value=0.0, bar_style='info', description='Progress:', layout=Layout(height='25px', width='50%'),…"
      ]
     },
     "metadata": {},
     "output_type": "display_data"
    },
    {
     "name": "stdout",
     "output_type": "stream",
     "text": [
      "46"
     ]
    }
   ],
   "source": [
    "states.count()"
   ]
  },
  {
   "cell_type": "code",
   "execution_count": 37,
   "id": "609aff91",
   "metadata": {},
   "outputs": [
    {
     "data": {
      "application/vnd.jupyter.widget-view+json": {
       "model_id": "4053e11438414b4099628d6d1c89a26f",
       "version_major": 2,
       "version_minor": 0
      },
      "text/plain": [
       "VBox()"
      ]
     },
     "metadata": {},
     "output_type": "display_data"
    },
    {
     "data": {
      "application/vnd.jupyter.widget-view+json": {
       "model_id": "",
       "version_major": 2,
       "version_minor": 0
      },
      "text/plain": [
       "FloatProgress(value=0.0, bar_style='info', description='Progress:', layout=Layout(height='25px', width='50%'),…"
      ]
     },
     "metadata": {},
     "output_type": "display_data"
    }
   ],
   "source": [
    "states.coalesce(1).write.csv('s3://covid-data123/processed_data/cases_by_states.csv')\n",
    "cases.coalesce(1).write.csv('s3://covid-data123/processed_data/cases_by_counties.csv')"
   ]
  },
  {
   "cell_type": "code",
   "execution_count": 43,
   "id": "2a4d572b",
   "metadata": {},
   "outputs": [
    {
     "data": {
      "application/vnd.jupyter.widget-view+json": {
       "model_id": "88cdc3da850b41e98850e6b576263a74",
       "version_major": 2,
       "version_minor": 0
      },
      "text/plain": [
       "VBox()"
      ]
     },
     "metadata": {},
     "output_type": "display_data"
    },
    {
     "data": {
      "application/vnd.jupyter.widget-view+json": {
       "model_id": "",
       "version_major": 2,
       "version_minor": 0
      },
      "text/plain": [
       "FloatProgress(value=0.0, bar_style='info', description='Progress:', layout=Layout(height='25px', width='50%'),…"
      ]
     },
     "metadata": {},
     "output_type": "display_data"
    }
   ],
   "source": [
    "state_dem = df.select(col('res_state'), col('race'), col('sex'), col('age_group'), col('ethnicity'))\n",
    "state_dem.coalesce(1).write.csv('s3://covid-data123/processed_data/state_demographics.csv')"
   ]
  },
  {
   "cell_type": "code",
   "execution_count": 44,
   "id": "656cee73",
   "metadata": {},
   "outputs": [
    {
     "data": {
      "application/vnd.jupyter.widget-view+json": {
       "model_id": "724f652a1cbc4edab371deea146a36ef",
       "version_major": 2,
       "version_minor": 0
      },
      "text/plain": [
       "VBox()"
      ]
     },
     "metadata": {},
     "output_type": "display_data"
    },
    {
     "data": {
      "application/vnd.jupyter.widget-view+json": {
       "model_id": "",
       "version_major": 2,
       "version_minor": 0
      },
      "text/plain": [
       "FloatProgress(value=0.0, bar_style='info', description='Progress:', layout=Layout(height='25px', width='50%'),…"
      ]
     },
     "metadata": {},
     "output_type": "display_data"
    },
    {
     "name": "stdout",
     "output_type": "stream",
     "text": [
      "+----------+-------+\n",
      "|case_month|  count|\n",
      "+----------+-------+\n",
      "|   2020-05| 210942|\n",
      "|   2021-02| 699414|\n",
      "|   2020-11|1465315|\n",
      "|   2020-07| 513753|\n",
      "|   2020-03| 136208|\n",
      "|   2020-09| 437849|\n",
      "|   2020-06| 316126|\n",
      "|   2021-03| 311304|\n",
      "|   2020-01|    159|\n",
      "|   2020-02|    169|\n",
      "|   2020-08| 404229|\n",
      "|   2021-01|1687891|\n",
      "|   2020-10| 787475|\n",
      "|   2020-12|1889466|\n",
      "|   2020-04| 272337|\n",
      "+----------+-------+"
     ]
    }
   ],
   "source": [
    "month_case = cleaned.groupBy('case_month').count()\n",
    "month_case.show()"
   ]
  },
  {
   "cell_type": "code",
   "execution_count": 45,
   "id": "5289a987",
   "metadata": {},
   "outputs": [
    {
     "data": {
      "application/vnd.jupyter.widget-view+json": {
       "model_id": "7af9b5fa4992439691ff355d913e8bf7",
       "version_major": 2,
       "version_minor": 0
      },
      "text/plain": [
       "VBox()"
      ]
     },
     "metadata": {},
     "output_type": "display_data"
    },
    {
     "data": {
      "application/vnd.jupyter.widget-view+json": {
       "model_id": "",
       "version_major": 2,
       "version_minor": 0
      },
      "text/plain": [
       "FloatProgress(value=0.0, bar_style='info', description='Progress:', layout=Layout(height='25px', width='50%'),…"
      ]
     },
     "metadata": {},
     "output_type": "display_data"
    }
   ],
   "source": [
    "month_case.coalesce(1).write.csv('s3://covid-data123/processed_data/cases_by_month.csv')"
   ]
  },
  {
   "cell_type": "code",
   "execution_count": null,
   "id": "5bbea254",
   "metadata": {},
   "outputs": [],
   "source": []
  }
 ],
 "metadata": {
  "kernelspec": {
   "display_name": "PySpark",
   "language": "",
   "name": "pysparkkernel"
  },
  "language_info": {
   "codemirror_mode": {
    "name": "python",
    "version": 3
   },
   "mimetype": "text/x-python",
   "name": "pyspark",
   "pygments_lexer": "python3"
  }
 },
 "nbformat": 4,
 "nbformat_minor": 5
}
